{
 "cells": [
  {
   "cell_type": "code",
   "execution_count": 363,
   "metadata": {},
   "outputs": [],
   "source": [
    "import generator\n",
    "\n",
    "import numpy as np\n",
    "\n",
    "import matplotlib.pyplot as plt\n",
    "plt.rcParams.update({'font.size': 16})\n",
    "\n",
    "from skopt.plots import plot_gaussian_process\n",
    "from skopt import Optimizer"
   ]
  },
  {
   "cell_type": "code",
   "execution_count": 364,
   "metadata": {},
   "outputs": [],
   "source": [
    "bins_file = open('../exp_data/na49/binning.bin', 'r')"
   ]
  },
  {
   "cell_type": "code",
   "execution_count": 365,
   "metadata": {},
   "outputs": [],
   "source": [
    "bins = []\n",
    "\n",
    "for num, line in enumerate(bins_file.readlines()):\n",
    "\n",
    "    if num % 2 == 0:\n",
    "        \n",
    "        a = line.split('|')\n",
    "\n",
    "        for bin in a:\n",
    "\n",
    "            bin = bin.replace('(', '').replace(')', '').replace(' ', '')\n",
    "            bins.append(list(map(float, bin.split(','))))\n",
    "\n",
    "bins = np.array(bins)\n",
    "\n",
    "bins_file.close()"
   ]
  },
  {
   "cell_type": "code",
   "execution_count": 366,
   "metadata": {},
   "outputs": [],
   "source": [
    "import pandas as pd\n",
    "\n",
    "ids = [211]\n",
    "\n",
    "refs = {}\n",
    "\n",
    "for id in ids:\n",
    "    \n",
    "    refs[id] = pd.read_csv(f'../exp_data/na49/{id}.csv')"
   ]
  },
  {
   "cell_type": "code",
   "execution_count": 367,
   "metadata": {},
   "outputs": [],
   "source": [
    "inst = {\n",
    "    'Print:quiet': 'on',\n",
    "\n",
    "    'Beams:frameType': '2',\n",
    "\n",
    "    'Beams:idA': '2212',\n",
    "    'Beams:idB': '2212',\n",
    "\n",
    "    'Beams:eA': '158',\n",
    "    'Beams:eB': '0',\n",
    "\n",
    "    'SoftQCD:all': 'on',\n",
    "\n",
    "    'Tune:pp': '1',\n",
    "\n",
    "    'SigmaDiffractive:dampen': 'on',\n",
    "    'SpaceShower:phiIntAsym': 'on',\n",
    "    'SpaceShower:phiPolAsym': 'on',\n",
    "    'SpaceShower:rapidityOrder': 'on',\n",
    "    'SpaceShower:rapidityOrderMPI': 'on',\n",
    "    'SpaceShower:samePTasMPI': 'off',\n",
    "    'TimeShower:dampenBeamRecoil': 'on',\n",
    "    'TimeShower:phiPolAsym': 'on',\n",
    "\n",
    "    'MultipartonInteractions:ecmRef': '1800',\n",
    "    }"
   ]
  },
  {
   "cell_type": "code",
   "execution_count": 398,
   "metadata": {},
   "outputs": [],
   "source": [
    "optim_param = 'StringPT:sigma'"
   ]
  },
  {
   "cell_type": "code",
   "execution_count": 369,
   "metadata": {},
   "outputs": [],
   "source": [
    "def objective(x, n_events, refs, agregate=None):\n",
    "\n",
    "    new_val = x[0]\n",
    "\n",
    "    inst[optim_param] = f'{new_val}'\n",
    "\n",
    "    data, sigma = generator.generate(n_events, inst, bins)\n",
    "    res =  generator.get_score(data, sigma, n_events, bins, refs, agregate)\n",
    "\n",
    "    return res"
   ]
  },
  {
   "cell_type": "code",
   "execution_count": 370,
   "metadata": {},
   "outputs": [],
   "source": [
    "n_initial_points = 1\n",
    "\n",
    "opt_gp = Optimizer([(0., 1.)],\n",
    "                   base_estimator=\"GP\",\n",
    "                   n_initial_points=n_initial_points,\n",
    "                   acq_optimizer=\"sampling\", acq_func='EI',\n",
    "                   random_state=42, n_jobs=-1)"
   ]
  },
  {
   "cell_type": "code",
   "execution_count": 371,
   "metadata": {},
   "outputs": [
    {
     "name": "stdout",
     "output_type": "stream",
     "text": [
      "Iteration number 1\n"
     ]
    },
    {
     "name": "stderr",
     "output_type": "stream",
     "text": [
      "100%|██████████| 1000000/1000000 [02:09<00:00, 7725.15it/s]\n"
     ]
    },
    {
     "name": "stdout",
     "output_type": "stream",
     "text": [
      "Iteration number 2\n"
     ]
    },
    {
     "name": "stderr",
     "output_type": "stream",
     "text": [
      "100%|██████████| 1000000/1000000 [02:22<00:00, 7000.90it/s]\n"
     ]
    },
    {
     "name": "stdout",
     "output_type": "stream",
     "text": [
      "Iteration number 3\n"
     ]
    },
    {
     "name": "stderr",
     "output_type": "stream",
     "text": [
      "100%|██████████| 1000000/1000000 [02:21<00:00, 7064.74it/s]\n"
     ]
    },
    {
     "name": "stdout",
     "output_type": "stream",
     "text": [
      "Iteration number 4\n"
     ]
    },
    {
     "name": "stderr",
     "output_type": "stream",
     "text": [
      "100%|██████████| 1000000/1000000 [02:19<00:00, 7181.83it/s]\n"
     ]
    },
    {
     "name": "stdout",
     "output_type": "stream",
     "text": [
      "Iteration number 5\n"
     ]
    },
    {
     "name": "stderr",
     "output_type": "stream",
     "text": [
      "100%|██████████| 1000000/1000000 [02:18<00:00, 7209.33it/s]\n"
     ]
    },
    {
     "name": "stdout",
     "output_type": "stream",
     "text": [
      "Iteration number 6\n"
     ]
    },
    {
     "name": "stderr",
     "output_type": "stream",
     "text": [
      "100%|██████████| 1000000/1000000 [02:14<00:00, 7430.00it/s]\n"
     ]
    },
    {
     "name": "stdout",
     "output_type": "stream",
     "text": [
      "Iteration number 7\n"
     ]
    },
    {
     "name": "stderr",
     "output_type": "stream",
     "text": [
      "100%|██████████| 1000000/1000000 [02:15<00:00, 7361.41it/s]\n"
     ]
    },
    {
     "name": "stdout",
     "output_type": "stream",
     "text": [
      "Iteration number 8\n"
     ]
    },
    {
     "name": "stderr",
     "output_type": "stream",
     "text": [
      "100%|██████████| 1000000/1000000 [02:12<00:00, 7531.54it/s]\n"
     ]
    },
    {
     "name": "stdout",
     "output_type": "stream",
     "text": [
      "Iteration number 9\n"
     ]
    },
    {
     "name": "stderr",
     "output_type": "stream",
     "text": [
      "100%|██████████| 1000000/1000000 [02:11<00:00, 7582.40it/s]\n"
     ]
    },
    {
     "name": "stdout",
     "output_type": "stream",
     "text": [
      "Iteration number 10\n"
     ]
    },
    {
     "name": "stderr",
     "output_type": "stream",
     "text": [
      "100%|██████████| 1000000/1000000 [02:12<00:00, 7559.46it/s]\n"
     ]
    },
    {
     "name": "stdout",
     "output_type": "stream",
     "text": [
      "Iteration number 11\n"
     ]
    },
    {
     "name": "stderr",
     "output_type": "stream",
     "text": [
      "100%|██████████| 1000000/1000000 [02:11<00:00, 7611.77it/s]\n"
     ]
    },
    {
     "name": "stdout",
     "output_type": "stream",
     "text": [
      "Iteration number 12\n"
     ]
    },
    {
     "name": "stderr",
     "output_type": "stream",
     "text": [
      "100%|██████████| 1000000/1000000 [02:12<00:00, 7574.14it/s]\n"
     ]
    },
    {
     "name": "stdout",
     "output_type": "stream",
     "text": [
      "Iteration number 13\n"
     ]
    },
    {
     "name": "stderr",
     "output_type": "stream",
     "text": [
      "100%|██████████| 1000000/1000000 [02:14<00:00, 7460.96it/s]\n"
     ]
    },
    {
     "name": "stdout",
     "output_type": "stream",
     "text": [
      "Iteration number 14\n"
     ]
    },
    {
     "name": "stderr",
     "output_type": "stream",
     "text": [
      "100%|██████████| 1000000/1000000 [02:05<00:00, 7966.94it/s]\n"
     ]
    },
    {
     "name": "stdout",
     "output_type": "stream",
     "text": [
      "Iteration number 15\n"
     ]
    },
    {
     "name": "stderr",
     "output_type": "stream",
     "text": [
      "100%|██████████| 1000000/1000000 [02:14<00:00, 7430.37it/s]\n"
     ]
    },
    {
     "name": "stdout",
     "output_type": "stream",
     "text": [
      "Iteration number 16\n"
     ]
    },
    {
     "name": "stderr",
     "output_type": "stream",
     "text": [
      "100%|██████████| 1000000/1000000 [02:10<00:00, 7652.74it/s]\n"
     ]
    },
    {
     "name": "stdout",
     "output_type": "stream",
     "text": [
      "Iteration number 17\n"
     ]
    },
    {
     "name": "stderr",
     "output_type": "stream",
     "text": [
      "100%|██████████| 1000000/1000000 [02:10<00:00, 7669.04it/s]\n"
     ]
    },
    {
     "name": "stdout",
     "output_type": "stream",
     "text": [
      "Iteration number 18\n"
     ]
    },
    {
     "name": "stderr",
     "output_type": "stream",
     "text": [
      "100%|██████████| 1000000/1000000 [02:11<00:00, 7620.60it/s]\n"
     ]
    },
    {
     "name": "stdout",
     "output_type": "stream",
     "text": [
      "Iteration number 19\n"
     ]
    },
    {
     "name": "stderr",
     "output_type": "stream",
     "text": [
      "100%|██████████| 1000000/1000000 [02:10<00:00, 7657.45it/s]\n"
     ]
    },
    {
     "name": "stdout",
     "output_type": "stream",
     "text": [
      "Iteration number 20\n"
     ]
    },
    {
     "name": "stderr",
     "output_type": "stream",
     "text": [
      "100%|██████████| 1000000/1000000 [02:11<00:00, 7623.87it/s]\n"
     ]
    },
    {
     "name": "stdout",
     "output_type": "stream",
     "text": [
      "f_min = 84.97 at x_min = 0.3692\n"
     ]
    }
   ],
   "source": [
    "n_events = int(1e6)\n",
    "\n",
    "itrs = 20\n",
    "\n",
    "verbose = 1\n",
    "\n",
    "zero = '0'\n",
    "\n",
    "plt.figure(figsize=(5, 5))\n",
    "\n",
    "for i in range(itrs):\n",
    "\n",
    "    if i % verbose == 0:\n",
    "        print(f'Iteration number {i + 1}')\n",
    "    \n",
    "    next_x = opt_gp.ask()\n",
    "    f_val = objective(next_x, n_events, refs, np.sum)\n",
    "    res = opt_gp.tell(next_x, f_val)\n",
    "    \n",
    "    ax1 = plot_gaussian_process(res,\n",
    "        #noise_level=noise_level,\n",
    "        show_legend=True, show_title=True,\n",
    "        show_next_point=False, show_acq_func=False\n",
    "        )\n",
    "    \n",
    "    ax1.legend(loc='upper right')\n",
    "    ax1.set_title('')\n",
    "\n",
    "    ax1.set_ylim((50, 1150))\n",
    "    ax1.set_ylabel('$f$')\n",
    "    ax1.set_xlabel(optim_param)\n",
    "\n",
    "    ax1.figure.savefig(f'opt_res/{optim_param}_f_{zero * int(np.trunc(np.log10(itrs - i)))}{i}.png',\n",
    "                      pad_inches=0.5, bbox_inches='tight')\n",
    "    ax1.clear()\n",
    "    \n",
    "    ax2 = plot_gaussian_process(res,\n",
    "                               #noise_level=noise_level,\n",
    "                               show_legend=True, show_title=False,\n",
    "                               show_next_point=True, show_acq_func=True,\n",
    "                               show_observations=False,\n",
    "                               show_mu=False)\n",
    "    \n",
    "    ax2.legend(loc='upper right')\n",
    "    ax2.set_title('')\n",
    "\n",
    "    ax2.set_yscale('log')\n",
    "    ax2.set_ylim((1e-50, 1e2))\n",
    "    ax2.set_ylabel('EI')\n",
    "    ax2.set_xlabel(optim_param)\n",
    "    ax2.figure.savefig(f'opt_res/{optim_param}_ei_{zero * int(np.trunc(np.log10(itrs - i)))}{i}.png',\n",
    "                      pad_inches=0.5, bbox_inches='tight')\n",
    "    ax2.clear()\n",
    "\n",
    "plt.close()\n",
    "\n",
    "f_min = np.min(opt_gp.yi)\n",
    "x_min = opt_gp.Xi[np.argmin(opt_gp.yi)]\n",
    "\n",
    "print(f'f_min = {f_min:.4} at x_min = {x_min[0]:.4}')"
   ]
  },
  {
   "cell_type": "code",
   "execution_count": 376,
   "metadata": {},
   "outputs": [],
   "source": [
    "import glob\n",
    "import contextlib\n",
    "from PIL import Image\n",
    "\n",
    "def make_animation(fp_in, fp_out):\n",
    "\n",
    "    # use exit stack to automatically close opened images\n",
    "    with contextlib.ExitStack() as stack:\n",
    "\n",
    "        # lazily load images\n",
    "        imgs = (stack.enter_context(Image.open(f))\n",
    "                for f in sorted(glob.glob(fp_in)))\n",
    "\n",
    "        # extract  first image from iterator\n",
    "        img = next(imgs)\n",
    "\n",
    "        # https://pillow.readthedocs.io/en/stable/handbook/image-file-formats.html#gif\n",
    "        img.save(fp=fp_out, format='GIF', append_images=imgs,\n",
    "                save_all=True, duration=400, loop=0)"
   ]
  },
  {
   "cell_type": "code",
   "execution_count": 399,
   "metadata": {},
   "outputs": [],
   "source": [
    "make_animation(f'opt_res/{optim_param}_f*.png',\n",
    "               f'opt_res/{optim_param}_f.gif')\n",
    "make_animation(f'opt_res/{optim_param}_ei*.png',\n",
    "               f'opt_res/{optim_param}_ei.gif')"
   ]
  },
  {
   "cell_type": "code",
   "execution_count": 393,
   "metadata": {},
   "outputs": [],
   "source": [
    "optim_param = 'MultipartonInteractions:expPow'"
   ]
  },
  {
   "cell_type": "code",
   "execution_count": 394,
   "metadata": {},
   "outputs": [],
   "source": [
    "n_initial_points = 1\n",
    "\n",
    "opt_gp = Optimizer([(0.4, 10.)],\n",
    "                   base_estimator=\"GP\",\n",
    "                   n_initial_points=n_initial_points,\n",
    "                   acq_optimizer=\"sampling\", acq_func='EI',\n",
    "                   random_state=42, n_jobs=-1)"
   ]
  },
  {
   "cell_type": "code",
   "execution_count": 395,
   "metadata": {},
   "outputs": [
    {
     "name": "stdout",
     "output_type": "stream",
     "text": [
      "Iteration number 1\n"
     ]
    },
    {
     "name": "stderr",
     "output_type": "stream",
     "text": [
      "100%|██████████| 1000000/1000000 [02:06<00:00, 7931.75it/s]\n"
     ]
    },
    {
     "name": "stdout",
     "output_type": "stream",
     "text": [
      "Iteration number 2\n"
     ]
    },
    {
     "name": "stderr",
     "output_type": "stream",
     "text": [
      "100%|██████████| 1000000/1000000 [02:06<00:00, 7904.74it/s]\n"
     ]
    },
    {
     "name": "stdout",
     "output_type": "stream",
     "text": [
      "Iteration number 3\n"
     ]
    },
    {
     "name": "stderr",
     "output_type": "stream",
     "text": [
      "100%|██████████| 1000000/1000000 [02:10<00:00, 7662.21it/s]\n"
     ]
    },
    {
     "name": "stdout",
     "output_type": "stream",
     "text": [
      "Iteration number 4\n"
     ]
    },
    {
     "name": "stderr",
     "output_type": "stream",
     "text": [
      "100%|██████████| 1000000/1000000 [02:10<00:00, 7636.93it/s]\n"
     ]
    },
    {
     "name": "stdout",
     "output_type": "stream",
     "text": [
      "Iteration number 5\n"
     ]
    },
    {
     "name": "stderr",
     "output_type": "stream",
     "text": [
      "100%|██████████| 1000000/1000000 [02:08<00:00, 7802.99it/s]\n"
     ]
    },
    {
     "name": "stdout",
     "output_type": "stream",
     "text": [
      "Iteration number 6\n"
     ]
    },
    {
     "name": "stderr",
     "output_type": "stream",
     "text": [
      "100%|██████████| 1000000/1000000 [02:06<00:00, 7926.98it/s]\n"
     ]
    },
    {
     "name": "stdout",
     "output_type": "stream",
     "text": [
      "Iteration number 7\n"
     ]
    },
    {
     "name": "stderr",
     "output_type": "stream",
     "text": [
      "100%|██████████| 1000000/1000000 [02:06<00:00, 7929.94it/s]\n"
     ]
    },
    {
     "name": "stdout",
     "output_type": "stream",
     "text": [
      "Iteration number 8\n"
     ]
    },
    {
     "name": "stderr",
     "output_type": "stream",
     "text": [
      "100%|██████████| 1000000/1000000 [02:05<00:00, 7999.10it/s]\n"
     ]
    },
    {
     "name": "stdout",
     "output_type": "stream",
     "text": [
      "Iteration number 9\n"
     ]
    },
    {
     "name": "stderr",
     "output_type": "stream",
     "text": [
      "100%|██████████| 1000000/1000000 [02:06<00:00, 7919.91it/s]\n"
     ]
    },
    {
     "name": "stdout",
     "output_type": "stream",
     "text": [
      "Iteration number 10\n"
     ]
    },
    {
     "name": "stderr",
     "output_type": "stream",
     "text": [
      "100%|██████████| 1000000/1000000 [02:07<00:00, 7863.74it/s]\n"
     ]
    },
    {
     "name": "stdout",
     "output_type": "stream",
     "text": [
      "Iteration number 11\n"
     ]
    },
    {
     "name": "stderr",
     "output_type": "stream",
     "text": [
      "100%|██████████| 1000000/1000000 [02:06<00:00, 7902.80it/s]\n"
     ]
    },
    {
     "name": "stdout",
     "output_type": "stream",
     "text": [
      "Iteration number 12\n"
     ]
    },
    {
     "name": "stderr",
     "output_type": "stream",
     "text": [
      "100%|██████████| 1000000/1000000 [02:04<00:00, 8007.88it/s]\n"
     ]
    },
    {
     "name": "stdout",
     "output_type": "stream",
     "text": [
      "Iteration number 13\n"
     ]
    },
    {
     "name": "stderr",
     "output_type": "stream",
     "text": [
      "100%|██████████| 1000000/1000000 [02:08<00:00, 7762.36it/s]\n"
     ]
    },
    {
     "name": "stdout",
     "output_type": "stream",
     "text": [
      "Iteration number 14\n"
     ]
    },
    {
     "name": "stderr",
     "output_type": "stream",
     "text": [
      "100%|██████████| 1000000/1000000 [02:06<00:00, 7875.65it/s]\n"
     ]
    },
    {
     "name": "stdout",
     "output_type": "stream",
     "text": [
      "Iteration number 15\n"
     ]
    },
    {
     "name": "stderr",
     "output_type": "stream",
     "text": [
      "100%|██████████| 1000000/1000000 [02:08<00:00, 7792.78it/s]\n"
     ]
    },
    {
     "name": "stdout",
     "output_type": "stream",
     "text": [
      "Iteration number 16\n"
     ]
    },
    {
     "name": "stderr",
     "output_type": "stream",
     "text": [
      "100%|██████████| 1000000/1000000 [11:33<00:00, 1441.80it/s]\n"
     ]
    },
    {
     "name": "stdout",
     "output_type": "stream",
     "text": [
      "Iteration number 17\n"
     ]
    },
    {
     "name": "stderr",
     "output_type": "stream",
     "text": [
      "100%|██████████| 1000000/1000000 [02:06<00:00, 7915.18it/s]\n"
     ]
    },
    {
     "name": "stdout",
     "output_type": "stream",
     "text": [
      "Iteration number 18\n"
     ]
    },
    {
     "name": "stderr",
     "output_type": "stream",
     "text": [
      "100%|██████████| 1000000/1000000 [02:09<00:00, 7736.37it/s]\n"
     ]
    },
    {
     "name": "stdout",
     "output_type": "stream",
     "text": [
      "Iteration number 19\n"
     ]
    },
    {
     "name": "stderr",
     "output_type": "stream",
     "text": [
      "100%|██████████| 1000000/1000000 [02:09<00:00, 7707.80it/s]\n"
     ]
    },
    {
     "name": "stdout",
     "output_type": "stream",
     "text": [
      "Iteration number 20\n"
     ]
    },
    {
     "name": "stderr",
     "output_type": "stream",
     "text": [
      "100%|██████████| 1000000/1000000 [02:11<00:00, 7608.94it/s]\n"
     ]
    },
    {
     "name": "stdout",
     "output_type": "stream",
     "text": [
      "f_min = 84.82 at x_min = 5.252\n"
     ]
    }
   ],
   "source": [
    "n_events = int(1e6)\n",
    "\n",
    "itrs = 20\n",
    "\n",
    "verbose = 1\n",
    "\n",
    "zero = '0'\n",
    "\n",
    "plt.figure(figsize=(5, 5))\n",
    "\n",
    "for i in range(itrs):\n",
    "\n",
    "    if i % verbose == 0:\n",
    "        print(f'Iteration number {i + 1}')\n",
    "    \n",
    "    next_x = opt_gp.ask()\n",
    "    f_val = objective(next_x, n_events, refs, np.sum)\n",
    "    res = opt_gp.tell(next_x, f_val)\n",
    "    \n",
    "    ax1 = plot_gaussian_process(res,\n",
    "        #noise_level=noise_level,\n",
    "        show_legend=True, show_title=True,\n",
    "        show_next_point=False, show_acq_func=False\n",
    "        )\n",
    "    \n",
    "    ax1.legend(loc='upper right')\n",
    "    ax1.set_title('')\n",
    "\n",
    "    ax1.set_ylim((80, 130))\n",
    "    ax1.set_ylabel('$f$')\n",
    "    ax1.set_xlabel(optim_param)\n",
    "\n",
    "    ax1.figure.savefig(f'opt_res/{optim_param}_f_{zero * int(np.trunc(np.log10(itrs - i)))}{i}.png',\n",
    "                      pad_inches=0.5, bbox_inches='tight')\n",
    "    ax1.clear()\n",
    "    \n",
    "    ax2 = plot_gaussian_process(res,\n",
    "                               #noise_level=noise_level,\n",
    "                               show_legend=True, show_title=False,\n",
    "                               show_next_point=True, show_acq_func=True,\n",
    "                               show_observations=False,\n",
    "                               show_mu=False)\n",
    "    \n",
    "    ax2.legend(loc='upper right')\n",
    "    ax2.set_title('')\n",
    "\n",
    "    ax2.set_yscale('log')\n",
    "    ax2.set_ylim((1e-50, 1e2))\n",
    "    ax2.set_ylabel('EI')\n",
    "    ax2.set_xlabel(optim_param)\n",
    "    ax2.figure.savefig(f'opt_res/{optim_param}_ei_{zero * int(np.trunc(np.log10(itrs - i)))}{i}.png',\n",
    "                      pad_inches=0.5, bbox_inches='tight')\n",
    "    ax2.clear()\n",
    "\n",
    "plt.close()\n",
    "\n",
    "f_min = np.min(opt_gp.yi)\n",
    "x_min = opt_gp.Xi[np.argmin(opt_gp.yi)]\n",
    "\n",
    "print(f'f_min = {f_min:.4} at x_min = {x_min[0]:.4}')"
   ]
  },
  {
   "cell_type": "code",
   "execution_count": 397,
   "metadata": {},
   "outputs": [],
   "source": [
    "make_animation(f'opt_res/{optim_param}_f*.png',\n",
    "               f'opt_res/{optim_param}_f.gif')\n",
    "make_animation(f'opt_res/{optim_param}_ei*.png',\n",
    "               f'opt_res/{optim_param}_ei.gif')"
   ]
  }
 ],
 "metadata": {
  "kernelspec": {
   "display_name": "Python 3",
   "language": "python",
   "name": "python3"
  },
  "language_info": {
   "codemirror_mode": {
    "name": "ipython",
    "version": 3
   },
   "file_extension": ".py",
   "mimetype": "text/x-python",
   "name": "python",
   "nbconvert_exporter": "python",
   "pygments_lexer": "ipython3",
   "version": "3.10.12"
  }
 },
 "nbformat": 4,
 "nbformat_minor": 2
}
