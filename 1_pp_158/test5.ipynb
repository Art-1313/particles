{
 "cells": [
  {
   "cell_type": "code",
   "execution_count": 25,
   "metadata": {},
   "outputs": [],
   "source": [
    "mp = 0.93827                                                           #proton mass\n",
    "pz = 158.0                                                             #beam momentum\n",
    "root_s = (2 * mp * (mp + (mp ** 2 +pz ** 2) ** 0.5)) ** 0.5            #sqrt(s)\n",
    "norm = 3.141593 * root_s / 2                                           #normalization in new coordinats\n",
    "sig_trig = 28.23                                                       #trigger cross section"
   ]
  },
  {
   "cell_type": "code",
   "execution_count": 26,
   "metadata": {},
   "outputs": [],
   "source": [
    "import sys\n",
    "\n",
    "sys.path.insert(0, '/opt/homebrew/Cellar/pythia/8.309/lib')\n",
    "\n",
    "import pythia8"
   ]
  },
  {
   "cell_type": "code",
   "execution_count": 27,
   "metadata": {},
   "outputs": [],
   "source": [
    "from tqdm import tqdm"
   ]
  },
  {
   "cell_type": "code",
   "execution_count": 28,
   "metadata": {},
   "outputs": [],
   "source": [
    "N_events = int(1e5)"
   ]
  },
  {
   "cell_type": "code",
   "execution_count": 13,
   "metadata": {},
   "outputs": [
    {
     "name": "stdout",
     "output_type": "stream",
     "text": [
      "\n",
      " *------------------------------------------------------------------------------------* \n",
      " |                                                                                    | \n",
      " |  *------------------------------------------------------------------------------*  | \n",
      " |  |                                                                              |  | \n",
      " |  |                                                                              |  | \n",
      " |  |   PPP   Y   Y  TTTTT  H   H  III    A      Welcome to the Lund Monte Carlo!  |  | \n",
      " |  |   P  P   Y Y     T    H   H   I    A A     This is PYTHIA version 8.309      |  | \n",
      " |  |   PPP     Y      T    HHHHH   I   AAAAA    Last date of change: 16 Feb 2023  |  | \n",
      " |  |   P       Y      T    H   H   I   A   A                                      |  | \n",
      " |  |   P       Y      T    H   H  III  A   A    Now is 06 Nov 2023 at 12:51:11    |  | \n",
      " |  |                                                                              |  | \n",
      " |  |   Program documentation and an archive of historic versions is found on:     |  | \n",
      " |  |                                                                              |  | \n",
      " |  |                               https://pythia.org/                            |  | \n",
      " |  |                                                                              |  | \n",
      " |  |   PYTHIA is authored by a collaboration consisting of:                       |  | \n",
      " |  |                                                                              |  | \n",
      " |  |   Christian Bierlich, Nishita Desai, Leif Gellersen, Ilkka Helenius, Philip  |  | \n",
      " |  |   Ilten, Leif Lonnblad, Stephen Mrenna, Stefan Prestel, Christian Preuss,    |  | \n",
      " |  |   Torbjorn Sjostrand, Peter Skands, Marius Utheim and Rob Verheyen.          |  | \n",
      " |  |                                                                              |  | \n",
      " |  |   The complete list of authors, including contact information and            |  | \n",
      " |  |   affiliations, can be found on https://pythia.org/.                         |  | \n",
      " |  |   Problems or bugs should be reported on email at authors@pythia.org.        |  | \n",
      " |  |                                                                              |  | \n",
      " |  |   The main program reference is C. Bierlich et al,                           |  | \n",
      " |  |   'A comprehensive guide to the physics and usage of Pythia 8.3',            |  | \n",
      " |  |   SciPost Phys. Codebases 8-r8.3 (2022) [arXiv:2203.11601 [hep-ph]]          |  | \n",
      " |  |                                                                              |  | \n",
      " |  |   PYTHIA is released under the GNU General Public Licence version 2 or later.|  | \n",
      " |  |   Please respect the MCnet Guidelines for Event Generator Authors and Users. |  | \n",
      " |  |                                                                              |  | \n",
      " |  |   Disclaimer: this program comes without any guarantees.                     |  | \n",
      " |  |   Beware of errors and use common sense when interpreting results.           |  | \n",
      " |  |                                                                              |  | \n",
      " |  |   Copyright (C) 2023 Torbjorn Sjostrand                                      |  | \n",
      " |  |                                                                              |  | \n",
      " |  |                                                                              |  | \n",
      " |  *------------------------------------------------------------------------------*  | \n",
      " |                                                                                    | \n",
      " *------------------------------------------------------------------------------------* \n",
      "\n",
      "\n",
      " *-------  PYTHIA Process Initialization  --------------------------*\n",
      " |                                                                  |\n",
      " | We collide p+ with p+ at a CM energy of 1.727e+01 GeV            |\n",
      " |                                                                  |\n",
      " |------------------------------------------------------------------|\n",
      " |                                                    |             |\n",
      " | Subprocess                                    Code |   Estimated |\n",
      " |                                                    |    max (mb) |\n",
      " |                                                    |             |\n",
      " |------------------------------------------------------------------|\n",
      " |                                                    |             |\n",
      " | non-diffractive                                101 |   2.400e+01 |\n",
      " | A B -> A B elastic                             102 |   6.843e+00 |\n",
      " | A B -> X B single diffractive                  103 |   3.139e+00 |\n",
      " | A B -> A X single diffractive                  104 |   3.139e+00 |\n",
      " | A B -> X X double diffractive                  105 |   1.523e+00 |\n",
      " | A B -> A X B central diffractive               106 |   0.000e+00 |\n",
      " |                                                                  |\n",
      " *-------  End PYTHIA Process Initialization -----------------------*\n",
      "\n",
      " *-------  PYTHIA Multiparton Interactions Initialization  ---------* \n",
      " |                                                                  | \n",
      " |                   sigmaNonDiffractive =    24.00 mb              | \n",
      " |                                                                  | \n",
      " |    pT0 =  0.63 gives sigmaInteraction =    82.60 mb: accepted    | \n",
      " |                                                                  | \n",
      " *-------  End PYTHIA Multiparton Interactions Initialization  -----* \n",
      "\n",
      " *-------  PYTHIA Multiparton Interactions Initialization  ---------* \n",
      " |                                                                  | \n",
      " |   diffraction XB for p+ on p+                                    | \n",
      " |                                                                  | \n",
      " |   diffractive mass = 1.00e+01 GeV and sigmaNorm =    10.00 mb    | \n",
      " |    pT0 =  0.56 gives sigmaInteraction =    23.37 mb: accepted    | \n",
      " |   diffractive mass = 1.31e+01 GeV and sigmaNorm =    10.00 mb    | \n",
      " |    pT0 =  0.59 gives sigmaInteraction =    23.02 mb: accepted    | \n",
      " |   diffractive mass = 1.73e+01 GeV and sigmaNorm =    10.00 mb    | \n",
      " |    pT0 =  0.63 gives sigmaInteraction =    22.49 mb: accepted    | \n",
      " |                                                                  | \n",
      " *-------  End PYTHIA Multiparton Interactions Initialization  -----* \n",
      " PYTHIA Warning in MultipartonInteractions::init: maximum increased by factor 3.946\n",
      "\n",
      " *-------  PYTHIA Multiparton Interactions Initialization  ---------* \n",
      " |                                                                  | \n",
      " |   diffraction AX for p+ on p+                                    | \n",
      " |                                                                  | \n",
      " |   diffractive mass = 1.00e+01 GeV and sigmaNorm =    10.00 mb    | \n",
      " |    pT0 =  0.56 gives sigmaInteraction =    23.27 mb: accepted    | \n",
      " |   diffractive mass = 1.31e+01 GeV and sigmaNorm =    10.00 mb    | \n",
      " |    pT0 =  0.59 gives sigmaInteraction =    22.75 mb: accepted    | \n",
      " |   diffractive mass = 1.73e+01 GeV and sigmaNorm =    10.00 mb    | \n",
      " |    pT0 =  0.63 gives sigmaInteraction =    22.39 mb: accepted    | \n",
      " |                                                                  | \n",
      " *-------  End PYTHIA Multiparton Interactions Initialization  -----* \n",
      "\n",
      " *-------  PYTHIA Multiparton Interactions Initialization  ---------* \n",
      " |                                                                  | \n",
      " |   diffraction AXB for p+ on p+                                   | \n",
      " |                                                                  | \n",
      " |   diffractive mass = 1.00e+01 GeV and sigmaNorm =    10.00 mb    | \n",
      " |    pT0 =  0.56 gives sigmaInteraction =     5.27 mb: rejected    | \n",
      " |    pT0 =  0.50 gives sigmaInteraction =     7.89 mb: rejected    | \n",
      " |    pT0 =  0.45 gives sigmaInteraction =    11.84 mb: accepted    | \n",
      " |   diffractive mass = 1.31e+01 GeV and sigmaNorm =    10.00 mb    | \n",
      " |    pT0 =  0.59 gives sigmaInteraction =     4.76 mb: rejected    | \n",
      " |    pT0 =  0.53 gives sigmaInteraction =     6.98 mb: rejected    | \n",
      " |    pT0 =  0.48 gives sigmaInteraction =    10.39 mb: rejected    | \n",
      " |    pT0 =  0.43 gives sigmaInteraction =    15.52 mb: accepted    | \n",
      " |   diffractive mass = 1.73e+01 GeV and sigmaNorm =    10.00 mb    | \n",
      " |    pT0 =  0.63 gives sigmaInteraction =     4.22 mb: rejected    | \n",
      " |    pT0 =  0.56 gives sigmaInteraction =     6.12 mb: rejected    | \n",
      " |    pT0 =  0.51 gives sigmaInteraction =     8.97 mb: rejected    | \n",
      " |    pT0 =  0.46 gives sigmaInteraction =    13.34 mb: accepted    | \n",
      " |                                                                  | \n",
      " *-------  End PYTHIA Multiparton Interactions Initialization  -----* \n",
      "\n",
      " *-------  PYTHIA Flag + Mode + Parm + Word + FVec + MVec + PVec + WVec Settings (changes only)  ------------------* \n",
      " |                                                                                                                 | \n",
      " | Name                                          |                      Now |      Default         Min         Max | \n",
      " |                                               |                          |                                      | \n",
      " | Beams:eA                                      |                158.00000 |     7000.000         0.0             | \n",
      " | Beams:eB                                      |                      0.0 |     7000.000         0.0             | \n",
      " | Beams:frameType                               |                        2 |            1           1           5 | \n",
      " | SoftQCD:all                                   |                       on |          off                         | \n",
      " |                                                                                                                 | \n",
      " *-------  End PYTHIA Flag + Mode + Parm + Word + FVec + MVec + PVec + WVec Settings  -----------------------------* \n",
      "\n",
      " --------  PYTHIA Particle Data Table (changed only)  ------------------------------------------------------------------------------\n",
      " \n",
      "      id   name            antiName         spn chg col      m0        mWidth      mMin       mMax       tau0    res dec ext vis wid\n",
      "             no onMode   bRatio   meMode     products \n",
      "\n",
      " no particle data has been changed from its default value \n",
      "\n",
      " --------  End PYTHIA Particle Data Table  -----------------------------------------------------------------------------------------\n",
      "\n"
     ]
    },
    {
     "name": "stderr",
     "output_type": "stream",
     "text": [
      "  1%|▏         | 1441/100000 [00:00<00:13, 7234.27it/s]"
     ]
    },
    {
     "name": "stdout",
     "output_type": "stream",
     "text": [
      "\n",
      " --------  PYTHIA Info Listing  ---------------------------------------- \n",
      " \n",
      " Beam A: id =   2212, pz =  8.584e+00, e =  8.635e+00, m =  9.383e-01.\n",
      " Beam B: id =   2212, pz = -8.584e+00, e =  8.635e+00, m =  9.383e-01.\n",
      "\n",
      " In 1: id =   21, x =  1.345e-01, pdf =  8.354e-01 at Q2 =  7.854e-02.\n",
      " In 2: id =   21, x =  1.225e-02, pdf =  1.542e+00 at same Q2.\n",
      "\n",
      " Process non-diffractive with code 101 is 2 -> 2.\n",
      " Subprocess g g -> g g with code 111 is 2 -> 2.\n",
      " It has sHat =  4.911e-01,    tHat = -9.816e-02,    uHat = -3.929e-01,\n",
      "       pTHat =  2.802e-01,   m3Hat =  0.000e+00,   m4Hat =  0.000e+00,\n",
      "    thetaHat =  9.270e-01,  phiHat =  4.019e+00.\n",
      "     alphaEM =  7.417e-03,  alphaS =  6.954e-01    at Q2 =  4.716e-01.\n",
      "\n",
      " Impact parameter b =  1.684e+00 gives enhancement factor =  5.015e-02.\n",
      " Max pT scale for MPI =  2.802e-01, ISR =  2.802e-01, FSR =  2.802e-01.\n",
      " Number of MPI =     1, ISR =     0, FSRproc =     0, FSRreson =     0.\n",
      "\n",
      " --------  End PYTHIA Info Listing  ------------------------------------\n",
      "\n",
      " --------  PYTHIA Event Listing  (hard process)  -----------------------------------------------------------------------------------\n",
      " \n",
      "    no         id  name            status     mothers   daughters     colours      p_x        p_y        p_z         e          m \n",
      "     0         90  (system)           -11     0     0     0     0     0     0      0.000      0.000    157.997    158.938     17.270\n",
      "     1       2212  (p+)               -12     0     0     3     0     0     0      0.000      0.000    157.997    158.000      0.938\n",
      "     2       2212  (p+)               -12     0     0     4     0     0     0      0.000      0.000     -0.000      0.938      0.938\n",
      "     3         21  (g)                -21     1     0     5     6   102   101      0.000      0.000     21.308     21.308      0.000\n",
      "     4         21  (g)                -21     2     0     5     6   103   102      0.000      0.000     -0.006      0.006      0.000\n",
      "     5         21  g                   23     3     4     0     0   104   101     -0.216     -0.179     17.048     17.050      0.000\n",
      "     6         21  g                   23     3     4     0     0   103   104      0.216      0.179      4.255      4.264      0.000\n",
      "                                   Charge sum:  0.000           Momentum sum:      0.000      0.000     21.302     21.314      0.701\n",
      "\n",
      " --------  End PYTHIA Event Listing  -----------------------------------------------------------------------------------------------\n",
      "\n",
      " --------  PYTHIA Event Listing  (complete event)  ---------------------------------------------------------------------------------\n",
      " \n",
      "    no         id  name            status     mothers   daughters     colours      p_x        p_y        p_z         e          m \n",
      "     0         90  (system)           -11     0     0     0     0     0     0      0.000      0.000    157.997    158.938     17.270\n",
      "     1       2212  (p+)               -12     0     0     7     0     0     0      0.000      0.000    157.997    158.000      0.938\n",
      "     2       2212  (p+)               -12     0     0     8     0     0     0      0.000      0.000     -0.000      0.938      0.938\n",
      "     3         21  (g)                -21     7     7     5     6   102   101      0.000      0.000     21.308     21.308      0.000\n",
      "     4         21  (g)                -21     8     8     5     6   103   102      0.000      0.000     -0.006      0.006      0.000\n",
      "     5         21  (g)                -23     3     4     9     9   104   101     -0.216     -0.179     17.048     17.050      0.000\n",
      "     6         21  (g)                -23     3     4    10    10   103   104      0.216      0.179      4.255      4.264      0.000\n",
      "     7         21  (g)                -61     1     0     3     3   102   101      0.427      0.566     33.148     33.155      0.000\n",
      "     8         21  (g)                -61     2     0     4     4   103   102      0.388      0.174      6.511      6.525      0.000\n",
      "     9         21  (g)                -62     5     5    21    21   104   101      0.049      0.144     16.998     16.998      0.000\n",
      "    10         21  (g)                -62     6     6    22    22   103   104      0.766      0.596     22.662     22.682      0.000\n",
      "    11       2101  (ud_0)             -63     1     0    16    16     0   102     -0.224     -0.378    114.488    114.491      0.579\n",
      "    12          2  (u)                -63     1     0    20    20   101     0     -0.203     -0.188      0.329      0.542      0.330\n",
      "    13       2101  (ud_0)             -63     2     0    23    23     0   103     -0.091     -0.100     -0.077      0.600      0.579\n",
      "    14          2  (u)                -63     2     0    15    15   102     0     -0.297     -0.074      3.597      3.625      0.330\n",
      "    15          2  (u)                -71    14    14    17    19   102     0     -0.297     -0.074      3.597      3.625      0.330\n",
      "    16       2101  (ud_0)             -71    11    11    17    19     0   102     -0.224     -0.378    114.488    114.491      0.579\n",
      "    17        213  (rho+)             -83    15    16    32    33     0     0     -0.015     -0.254     17.370     17.387      0.720\n",
      "    18        111  (pi0)              -83    15    16    40    41     0     0     -0.108      0.100      2.547      2.555      0.135\n",
      "    19       2112  n0                  84    15    16     0     0     0     0     -0.398     -0.298     98.169     98.175      0.940\n",
      "    20          2  (u)                -71    12    12    24    31   101     0     -0.203     -0.188      0.329      0.542      0.330\n",
      "    21         21  (g)                -71     9     9    24    31   104   101      0.049      0.144     16.998     16.998      0.000\n",
      "    22         21  (g)                -71    10    10    24    31   103   104      0.766      0.596     22.662     22.682      0.000\n",
      "    23       2101  (ud_0)             -71    13    13    24    31     0   103     -0.091     -0.100     -0.077      0.600      0.579\n",
      "    24        111  (pi0)              -83    20    23    42    43     0     0     -0.317      0.108      1.682      1.720      0.135\n",
      "    25        213  (rho+)             -83    20    23    34    35     0     0      0.188     -0.205      3.321      3.376      0.536\n",
      "    26       -211  pi-                 83    20    23     0     0     0     0      0.088     -0.044      2.469      2.475      0.140\n",
      "    27        213  (rho+)             -83    20    23    36    37     0     0     -0.214      0.465     12.415     12.455      0.852\n",
      "    28       -213  (rho-)             -83    20    23    38    39     0     0      0.433      0.195     14.864     14.897      0.858\n",
      "    29        321  K+                  84    20    23     0     0     0     0      0.002     -0.079      1.121      1.227      0.494\n",
      "    30       -321  K-                  84    20    23     0     0     0     0      0.139      0.766      2.737      2.888      0.494\n",
      "    31       2212  p+                  84    20    23     0     0     0     0      0.202     -0.754      1.302      1.785      0.938\n",
      "    32        211  pi+                 91    17     0     0     0     0     0      0.048     -0.321      3.955      3.971      0.140\n",
      "    33        111  (pi0)              -91    17     0    44    45     0     0     -0.063      0.067     13.415     13.416      0.135\n",
      "    34        211  pi+                 91    25     0     0     0     0     0     -0.019     -0.278      2.363      2.383      0.140\n",
      "    35        111  (pi0)              -91    25     0    46    47     0     0      0.207      0.073      0.959      0.993      0.135\n",
      "    36        211  pi+                 91    27     0     0     0     0     0     -0.005     -0.059      8.046      8.047      0.140\n",
      "    37        111  (pi0)              -91    27     0    48    49     0     0     -0.209      0.524      4.370      4.408      0.135\n",
      "    38       -211  pi-                 91    28     0     0     0     0     0      0.127      0.121      0.882      0.910      0.140\n",
      "    39        111  (pi0)              -91    28     0    50    51     0     0      0.305      0.074     13.982     13.986      0.135\n",
      "    40         22  gamma               91    18     0     0     0     0     0     -0.023      0.079      0.569      0.575      0.000\n",
      "    41         22  gamma               91    18     0     0     0     0     0     -0.085      0.021      1.977      1.979      0.000\n",
      "    42         22  gamma               91    24     0     0     0     0     0     -0.159      0.001      0.982      0.995      0.000\n",
      "    43         22  gamma               91    24     0     0     0     0     0     -0.158      0.107      0.700      0.725      0.000\n",
      "    44         22  gamma               91    33     0     0     0     0     0     -0.089     -0.002      7.743      7.743      0.000\n",
      "    45         22  gamma               91    33     0     0     0     0     0      0.026      0.069      5.672      5.673      0.000\n",
      "    46         22  gamma               91    35     0     0     0     0     0      0.115      0.106      0.507      0.530      0.000\n",
      "    47         22  gamma               91    35     0     0     0     0     0      0.092     -0.033      0.452      0.462      0.000\n",
      "    48         22  gamma               91    37     0     0     0     0     0     -0.011      0.006      0.025      0.028      0.000\n",
      "    49         22  gamma               91    37     0     0     0     0     0     -0.197      0.518      4.345      4.380      0.000\n",
      "    50         22  gamma               91    39     0     0     0     0     0      0.104     -0.015      6.769      6.770      0.000\n",
      "    51         22  gamma               91    39     0     0     0     0     0      0.201      0.089      7.213      7.217      0.000\n",
      "                                   Charge sum:  2.000           Momentum sum:     -0.000     -0.000    157.997    158.938     17.270\n",
      "\n",
      " --------  End PYTHIA Event Listing  -----------------------------------------------------------------------------------------------\n",
      " PYTHIA Error in BeamRemnants::setKinematics: kinematics construction failed  \n",
      " PYTHIA Warning in StringFragmentation::fragmentToJunction: bad convergence junction rest frame  \n",
      "\n",
      " Pythia::next(): 1000 events have been generated \n",
      " PYTHIA Warning in MultipartonInteractions::pTnext: weight above unity  \n"
     ]
    },
    {
     "name": "stderr",
     "output_type": "stream",
     "text": [
      "  3%|▎         | 2898/100000 [00:00<00:13, 7186.92it/s]"
     ]
    },
    {
     "name": "stdout",
     "output_type": "stream",
     "text": [
      "\n",
      " Pythia::next(): 2000 events have been generated \n",
      "\n",
      " Pythia::next(): 3000 events have been generated \n"
     ]
    },
    {
     "name": "stderr",
     "output_type": "stream",
     "text": [
      "  5%|▌         | 5119/100000 [00:00<00:13, 7114.67it/s]"
     ]
    },
    {
     "name": "stdout",
     "output_type": "stream",
     "text": [
      "\n",
      " Pythia::next(): 4000 events have been generated \n",
      "\n",
      " Pythia::next(): 5000 events have been generated \n"
     ]
    },
    {
     "name": "stderr",
     "output_type": "stream",
     "text": [
      "  7%|▋         | 7336/100000 [00:01<00:12, 7319.35it/s]"
     ]
    },
    {
     "name": "stdout",
     "output_type": "stream",
     "text": [
      "\n",
      " Pythia::next(): 6000 events have been generated \n",
      "\n",
      " Pythia::next(): 7000 events have been generated \n",
      "\n",
      " Pythia::next(): 8000 events have been generated \n"
     ]
    },
    {
     "name": "stderr",
     "output_type": "stream",
     "text": [
      " 10%|█         | 10339/100000 [00:01<00:12, 7419.19it/s]"
     ]
    },
    {
     "name": "stdout",
     "output_type": "stream",
     "text": [
      "\n",
      " Pythia::next(): 9000 events have been generated \n",
      "\n",
      " Pythia::next(): 10000 events have been generated \n"
     ]
    },
    {
     "name": "stderr",
     "output_type": "stream",
     "text": [
      " 13%|█▎        | 12607/100000 [00:01<00:11, 7420.89it/s]"
     ]
    },
    {
     "name": "stdout",
     "output_type": "stream",
     "text": [
      "\n",
      " Pythia::next(): 11000 events have been generated \n",
      " PYTHIA Warning in Pythia::check: energy-momentum not quite conserved  \n",
      "\n",
      " Pythia::next(): 12000 events have been generated \n"
     ]
    },
    {
     "name": "stderr",
     "output_type": "stream",
     "text": [
      " 14%|█▍        | 14091/100000 [00:01<00:11, 7259.39it/s]"
     ]
    },
    {
     "name": "stdout",
     "output_type": "stream",
     "text": [
      "\n",
      " Pythia::next(): 13000 events have been generated \n",
      "\n",
      " Pythia::next(): 14000 events have been generated \n"
     ]
    },
    {
     "name": "stderr",
     "output_type": "stream",
     "text": [
      " 16%|█▋        | 16352/100000 [00:02<00:11, 7431.79it/s]"
     ]
    },
    {
     "name": "stdout",
     "output_type": "stream",
     "text": [
      "\n",
      " Pythia::next(): 15000 events have been generated \n",
      " PYTHIA Error in MiniStringFragmentation::fragment: no 1- or 2-body state found above mass threshold  \n",
      " PYTHIA Error in Pythia::next: hadronLevel failed; try again  \n",
      "\n",
      " Pythia::next(): 16000 events have been generated \n"
     ]
    },
    {
     "name": "stderr",
     "output_type": "stream",
     "text": [
      " 18%|█▊        | 17823/100000 [00:02<00:11, 7235.23it/s]"
     ]
    },
    {
     "name": "stdout",
     "output_type": "stream",
     "text": [
      "\n",
      " Pythia::next(): 17000 events have been generated \n",
      " PYTHIA Error in BeamRemnants::setKinematics: no momentum left for beam remnants  \n",
      " PYTHIA Error in Pythia::next: partonLevel failed; try again  \n",
      "\n",
      " Pythia::next(): 18000 events have been generated \n"
     ]
    },
    {
     "name": "stderr",
     "output_type": "stream",
     "text": [
      " 20%|██        | 20034/100000 [00:02<00:11, 7226.98it/s]"
     ]
    },
    {
     "name": "stdout",
     "output_type": "stream",
     "text": [
      "\n",
      " Pythia::next(): 19000 events have been generated \n",
      "\n",
      " Pythia::next(): 20000 events have been generated \n"
     ]
    },
    {
     "name": "stderr",
     "output_type": "stream",
     "text": [
      " 22%|██▏       | 22398/100000 [00:03<00:10, 7654.20it/s]"
     ]
    },
    {
     "name": "stdout",
     "output_type": "stream",
     "text": [
      "\n",
      " Pythia::next(): 21000 events have been generated \n",
      "\n",
      " Pythia::next(): 22000 events have been generated \n"
     ]
    },
    {
     "name": "stderr",
     "output_type": "stream",
     "text": [
      " 24%|██▍       | 23953/100000 [00:03<00:09, 7642.33it/s]"
     ]
    },
    {
     "name": "stdout",
     "output_type": "stream",
     "text": [
      "\n",
      " Pythia::next(): 23000 events have been generated \n",
      "\n",
      " Pythia::next(): 24000 events have been generated \n"
     ]
    },
    {
     "name": "stderr",
     "output_type": "stream",
     "text": [
      " 26%|██▋       | 26258/100000 [00:03<00:09, 7519.96it/s]"
     ]
    },
    {
     "name": "stdout",
     "output_type": "stream",
     "text": [
      "\n",
      " Pythia::next(): 25000 events have been generated \n",
      "\n",
      " Pythia::next(): 26000 events have been generated \n"
     ]
    },
    {
     "name": "stderr",
     "output_type": "stream",
     "text": [
      " 29%|██▊       | 28565/100000 [00:03<00:09, 7489.84it/s]"
     ]
    },
    {
     "name": "stdout",
     "output_type": "stream",
     "text": [
      "\n",
      " Pythia::next(): 27000 events have been generated \n",
      " PYTHIA Warning in SimpleSpaceShower::branch: used up beam momentum; retrying parton level  \n",
      "\n",
      " Pythia::next(): 28000 events have been generated \n"
     ]
    },
    {
     "name": "stderr",
     "output_type": "stream",
     "text": [
      " 30%|███       | 30083/100000 [00:04<00:09, 7501.16it/s]"
     ]
    },
    {
     "name": "stdout",
     "output_type": "stream",
     "text": [
      "\n",
      " Pythia::next(): 29000 events have been generated \n",
      "\n",
      " Pythia::next(): 30000 events have been generated \n"
     ]
    },
    {
     "name": "stderr",
     "output_type": "stream",
     "text": [
      " 32%|███▏      | 32443/100000 [00:04<00:08, 7744.04it/s]"
     ]
    },
    {
     "name": "stdout",
     "output_type": "stream",
     "text": [
      "\n",
      " Pythia::next(): 31000 events have been generated \n",
      "\n",
      " Pythia::next(): 32000 events have been generated \n",
      "\n",
      " Pythia::next(): 33000 events have been generated \n"
     ]
    },
    {
     "name": "stderr",
     "output_type": "stream",
     "text": [
      " 36%|███▌      | 35529/100000 [00:04<00:08, 7658.93it/s]"
     ]
    },
    {
     "name": "stdout",
     "output_type": "stream",
     "text": [
      "\n",
      " Pythia::next(): 34000 events have been generated \n",
      "\n",
      " Pythia::next(): 35000 events have been generated \n"
     ]
    },
    {
     "name": "stderr",
     "output_type": "stream",
     "text": [
      " 37%|███▋      | 37059/100000 [00:04<00:08, 7579.68it/s]"
     ]
    },
    {
     "name": "stdout",
     "output_type": "stream",
     "text": [
      "\n",
      " Pythia::next(): 36000 events have been generated \n",
      " PYTHIA Error in StringFragmentation::fragment: stuck in joining  \n",
      "\n",
      " Pythia::next(): 37000 events have been generated \n"
     ]
    },
    {
     "name": "stderr",
     "output_type": "stream",
     "text": [
      " 39%|███▉      | 39330/100000 [00:05<00:08, 7404.39it/s]"
     ]
    },
    {
     "name": "stdout",
     "output_type": "stream",
     "text": [
      "\n",
      " Pythia::next(): 38000 events have been generated \n",
      "\n",
      " Pythia::next(): 39000 events have been generated \n",
      "\n",
      " Pythia::next(): 40000 events have been generated \n"
     ]
    },
    {
     "name": "stderr",
     "output_type": "stream",
     "text": [
      " 42%|████▏     | 42342/100000 [00:05<00:07, 7481.10it/s]"
     ]
    },
    {
     "name": "stdout",
     "output_type": "stream",
     "text": [
      "\n",
      " Pythia::next(): 41000 events have been generated \n",
      "\n",
      " Pythia::next(): 42000 events have been generated \n",
      "\n",
      " Pythia::next(): 43000 events have been generated \n"
     ]
    },
    {
     "name": "stderr",
     "output_type": "stream",
     "text": [
      " 45%|████▌     | 45368/100000 [00:06<00:07, 7368.18it/s]"
     ]
    },
    {
     "name": "stdout",
     "output_type": "stream",
     "text": [
      "\n",
      " Pythia::next(): 44000 events have been generated \n",
      "\n",
      " Pythia::next(): 45000 events have been generated \n"
     ]
    },
    {
     "name": "stderr",
     "output_type": "stream",
     "text": [
      " 47%|████▋     | 46855/100000 [00:06<00:07, 7294.63it/s]"
     ]
    },
    {
     "name": "stdout",
     "output_type": "stream",
     "text": [
      "\n",
      " Pythia::next(): 46000 events have been generated \n",
      "\n",
      " Pythia::next(): 47000 events have been generated \n"
     ]
    },
    {
     "name": "stderr",
     "output_type": "stream",
     "text": [
      " 49%|████▉     | 49119/100000 [00:06<00:06, 7458.97it/s]"
     ]
    },
    {
     "name": "stdout",
     "output_type": "stream",
     "text": [
      "\n",
      " Pythia::next(): 48000 events have been generated \n",
      "\n",
      " Pythia::next(): 49000 events have been generated \n"
     ]
    },
    {
     "name": "stderr",
     "output_type": "stream",
     "text": [
      " 51%|█████▏    | 51384/100000 [00:06<00:06, 7436.03it/s]"
     ]
    },
    {
     "name": "stdout",
     "output_type": "stream",
     "text": [
      "\n",
      " Pythia::next(): 50000 events have been generated \n",
      "\n",
      " Pythia::next(): 51000 events have been generated \n"
     ]
    },
    {
     "name": "stderr",
     "output_type": "stream",
     "text": [
      " 53%|█████▎    | 52888/100000 [00:07<00:06, 7419.50it/s]"
     ]
    },
    {
     "name": "stdout",
     "output_type": "stream",
     "text": [
      "\n",
      " Pythia::next(): 52000 events have been generated \n",
      "\n",
      " Pythia::next(): 53000 events have been generated \n"
     ]
    },
    {
     "name": "stderr",
     "output_type": "stream",
     "text": [
      " 55%|█████▌    | 55102/100000 [00:07<00:06, 7192.13it/s]"
     ]
    },
    {
     "name": "stdout",
     "output_type": "stream",
     "text": [
      "\n",
      " Pythia::next(): 54000 events have been generated \n",
      "\n",
      " Pythia::next(): 55000 events have been generated \n"
     ]
    },
    {
     "name": "stderr",
     "output_type": "stream",
     "text": [
      " 57%|█████▋    | 57296/100000 [00:07<00:05, 7242.30it/s]"
     ]
    },
    {
     "name": "stdout",
     "output_type": "stream",
     "text": [
      "\n",
      " Pythia::next(): 56000 events have been generated \n",
      "\n",
      " Pythia::next(): 57000 events have been generated \n"
     ]
    },
    {
     "name": "stderr",
     "output_type": "stream",
     "text": [
      " 60%|█████▉    | 59562/100000 [00:08<00:05, 7473.33it/s]"
     ]
    },
    {
     "name": "stdout",
     "output_type": "stream",
     "text": [
      "\n",
      " Pythia::next(): 58000 events have been generated \n",
      "\n",
      " Pythia::next(): 59000 events have been generated \n"
     ]
    },
    {
     "name": "stderr",
     "output_type": "stream",
     "text": [
      " 61%|██████    | 61071/100000 [00:08<00:05, 7491.25it/s]"
     ]
    },
    {
     "name": "stdout",
     "output_type": "stream",
     "text": [
      "\n",
      " Pythia::next(): 60000 events have been generated \n",
      "\n",
      " Pythia::next(): 61000 events have been generated \n"
     ]
    },
    {
     "name": "stderr",
     "output_type": "stream",
     "text": [
      " 63%|██████▎   | 63299/100000 [00:08<00:05, 7265.07it/s]"
     ]
    },
    {
     "name": "stdout",
     "output_type": "stream",
     "text": [
      "\n",
      " Pythia::next(): 62000 events have been generated \n",
      "\n",
      " Pythia::next(): 63000 events have been generated \n"
     ]
    },
    {
     "name": "stderr",
     "output_type": "stream",
     "text": [
      " 65%|██████▍   | 64808/100000 [00:08<00:04, 7386.23it/s]"
     ]
    },
    {
     "name": "stdout",
     "output_type": "stream",
     "text": [
      "\n",
      " Pythia::next(): 64000 events have been generated \n",
      "\n",
      " Pythia::next(): 65000 events have been generated \n"
     ]
    },
    {
     "name": "stderr",
     "output_type": "stream",
     "text": [
      " 67%|██████▋   | 67026/100000 [00:09<00:04, 7324.82it/s]"
     ]
    },
    {
     "name": "stdout",
     "output_type": "stream",
     "text": [
      "\n",
      " Pythia::next(): 66000 events have been generated \n",
      "\n",
      " Pythia::next(): 67000 events have been generated \n"
     ]
    },
    {
     "name": "stderr",
     "output_type": "stream",
     "text": [
      " 69%|██████▉   | 69213/100000 [00:09<00:04, 7192.46it/s]"
     ]
    },
    {
     "name": "stdout",
     "output_type": "stream",
     "text": [
      "\n",
      " Pythia::next(): 68000 events have been generated \n",
      "\n",
      " Pythia::next(): 69000 events have been generated \n"
     ]
    },
    {
     "name": "stderr",
     "output_type": "stream",
     "text": [
      " 71%|███████▏  | 71473/100000 [00:09<00:03, 7448.11it/s]"
     ]
    },
    {
     "name": "stdout",
     "output_type": "stream",
     "text": [
      "\n",
      " Pythia::next(): 70000 events have been generated \n",
      "\n",
      " Pythia::next(): 71000 events have been generated \n"
     ]
    },
    {
     "name": "stderr",
     "output_type": "stream",
     "text": [
      " 73%|███████▎  | 73033/100000 [00:09<00:03, 7627.26it/s]"
     ]
    },
    {
     "name": "stdout",
     "output_type": "stream",
     "text": [
      "\n",
      " Pythia::next(): 72000 events have been generated \n",
      "\n",
      " Pythia::next(): 73000 events have been generated \n"
     ]
    },
    {
     "name": "stderr",
     "output_type": "stream",
     "text": [
      " 75%|███████▌  | 75285/100000 [00:10<00:03, 7281.74it/s]"
     ]
    },
    {
     "name": "stdout",
     "output_type": "stream",
     "text": [
      "\n",
      " Pythia::next(): 74000 events have been generated \n",
      "\n",
      " Pythia::next(): 75000 events have been generated \n"
     ]
    },
    {
     "name": "stderr",
     "output_type": "stream",
     "text": [
      " 77%|███████▋  | 77445/100000 [00:10<00:03, 6827.99it/s]"
     ]
    },
    {
     "name": "stdout",
     "output_type": "stream",
     "text": [
      "\n",
      " Pythia::next(): 76000 events have been generated \n",
      "\n",
      " Pythia::next(): 77000 events have been generated \n"
     ]
    },
    {
     "name": "stderr",
     "output_type": "stream",
     "text": [
      " 79%|███████▉  | 78877/100000 [00:10<00:03, 6975.52it/s]"
     ]
    },
    {
     "name": "stdout",
     "output_type": "stream",
     "text": [
      "\n",
      " Pythia::next(): 78000 events have been generated \n",
      "\n",
      " Pythia::next(): 79000 events have been generated \n"
     ]
    },
    {
     "name": "stderr",
     "output_type": "stream",
     "text": [
      " 81%|████████  | 81121/100000 [00:11<00:02, 7303.70it/s]"
     ]
    },
    {
     "name": "stdout",
     "output_type": "stream",
     "text": [
      "\n",
      " Pythia::next(): 80000 events have been generated \n",
      "\n",
      " Pythia::next(): 81000 events have been generated \n"
     ]
    },
    {
     "name": "stderr",
     "output_type": "stream",
     "text": [
      " 83%|████████▎ | 83417/100000 [00:11<00:02, 7498.05it/s]"
     ]
    },
    {
     "name": "stdout",
     "output_type": "stream",
     "text": [
      "\n",
      " Pythia::next(): 82000 events have been generated \n",
      "\n",
      " Pythia::next(): 83000 events have been generated \n"
     ]
    },
    {
     "name": "stderr",
     "output_type": "stream",
     "text": [
      " 86%|████████▌ | 85678/100000 [00:11<00:01, 7462.09it/s]"
     ]
    },
    {
     "name": "stdout",
     "output_type": "stream",
     "text": [
      "\n",
      " Pythia::next(): 84000 events have been generated \n",
      "\n",
      " Pythia::next(): 85000 events have been generated \n"
     ]
    },
    {
     "name": "stderr",
     "output_type": "stream",
     "text": [
      " 87%|████████▋ | 87173/100000 [00:11<00:01, 7418.81it/s]"
     ]
    },
    {
     "name": "stdout",
     "output_type": "stream",
     "text": [
      "\n",
      " Pythia::next(): 86000 events have been generated \n",
      "\n",
      " Pythia::next(): 87000 events have been generated \n"
     ]
    },
    {
     "name": "stderr",
     "output_type": "stream",
     "text": [
      " 89%|████████▉ | 89404/100000 [00:12<00:01, 7379.46it/s]"
     ]
    },
    {
     "name": "stdout",
     "output_type": "stream",
     "text": [
      "\n",
      " Pythia::next(): 88000 events have been generated \n",
      "\n",
      " Pythia::next(): 89000 events have been generated \n"
     ]
    },
    {
     "name": "stderr",
     "output_type": "stream",
     "text": [
      " 91%|█████████ | 90890/100000 [00:12<00:01, 7345.03it/s]"
     ]
    },
    {
     "name": "stdout",
     "output_type": "stream",
     "text": [
      "\n",
      " Pythia::next(): 90000 events have been generated \n",
      "\n",
      " Pythia::next(): 91000 events have been generated \n"
     ]
    },
    {
     "name": "stderr",
     "output_type": "stream",
     "text": [
      " 93%|█████████▎| 93198/100000 [00:12<00:00, 7589.92it/s]"
     ]
    },
    {
     "name": "stdout",
     "output_type": "stream",
     "text": [
      "\n",
      " Pythia::next(): 92000 events have been generated \n",
      "\n",
      " Pythia::next(): 93000 events have been generated \n"
     ]
    },
    {
     "name": "stderr",
     "output_type": "stream",
     "text": [
      " 95%|█████████▌| 95470/100000 [00:12<00:00, 7536.99it/s]"
     ]
    },
    {
     "name": "stdout",
     "output_type": "stream",
     "text": [
      "\n",
      " Pythia::next(): 94000 events have been generated \n",
      "\n",
      " Pythia::next(): 95000 events have been generated \n"
     ]
    },
    {
     "name": "stderr",
     "output_type": "stream",
     "text": [
      " 97%|█████████▋| 96955/100000 [00:13<00:00, 7239.96it/s]"
     ]
    },
    {
     "name": "stdout",
     "output_type": "stream",
     "text": [
      "\n",
      " Pythia::next(): 96000 events have been generated \n",
      "\n",
      " Pythia::next(): 97000 events have been generated \n"
     ]
    },
    {
     "name": "stderr",
     "output_type": "stream",
     "text": [
      " 99%|█████████▉| 99199/100000 [00:13<00:00, 7333.93it/s]"
     ]
    },
    {
     "name": "stdout",
     "output_type": "stream",
     "text": [
      "\n",
      " Pythia::next(): 98000 events have been generated \n",
      "\n",
      " Pythia::next(): 99000 events have been generated \n"
     ]
    },
    {
     "name": "stderr",
     "output_type": "stream",
     "text": [
      "100%|██████████| 100000/100000 [00:13<00:00, 7373.06it/s]\n"
     ]
    }
   ],
   "source": [
    "pythia = pythia8.Pythia('printBanner = false')\n",
    "\n",
    "file = open(f'generated.csv', 'w')\n",
    "file.write('pT,xF,E\\n')\n",
    "\n",
    "file_b = open(f'generated_b.csv', 'w')\n",
    "file_b.write('pT,xF,E\\n')\n",
    "\n",
    "pythia.readFile('config/config.cmnd')\n",
    "\n",
    "boost = pythia8.Vec4()\n",
    "boost.pz(mp * ((1 + (pz / mp) ** 2) ** 0.5 - 1) ** 0.5)\n",
    "boost.e((boost.pz() ** 2 + mp ** 2) ** 0.5)\n",
    "\n",
    "pythia.init()\n",
    "\n",
    "for event in tqdm(range(N_events)):\n",
    "\n",
    "    if not pythia.next(): continue\n",
    "    \n",
    "    entries = pythia.event.size()\n",
    "\n",
    "    for j in range(entries):\n",
    "\n",
    "        particle = pythia.event[j]\n",
    "\n",
    "        id = particle.id()\n",
    "        \n",
    "        if int(id) == 211:\n",
    "\n",
    "            P_mu = particle.p()\n",
    "            pT = P_mu.pT()\n",
    "            xF = 2 * P_mu.pz() / root_s\n",
    "            E = P_mu.e()\n",
    "            file.write(f'{pT},{xF},{E}\\n')\n",
    "\n",
    "            P_mu.bstback(boost)\n",
    "            pT = P_mu.pT()\n",
    "            xF = 2 * P_mu.pz() / root_s\n",
    "            E = P_mu.e()\n",
    "            file_b.write(f'{pT},{xF},{E}\\n')\n",
    "\n",
    "file.close()\n",
    "file_b.close()"
   ]
  },
  {
   "cell_type": "code",
   "execution_count": 23,
   "metadata": {},
   "outputs": [],
   "source": [
    "import pandas as pd\n",
    "import matplotlib.pyplot as plt"
   ]
  },
  {
   "cell_type": "code",
   "execution_count": 24,
   "metadata": {},
   "outputs": [],
   "source": [
    "df = pd.read_csv('generated.csv')\n",
    "df_b = pd.read_csv('generated_b.csv')"
   ]
  },
  {
   "cell_type": "code",
   "execution_count": 22,
   "metadata": {},
   "outputs": [
    {
     "data": {
      "image/png": "[encoded data removed]",
      "text/plain": [
       "<Figure size 1000x300 with 2 Axes>"
      ]
     },
     "metadata": {},
     "output_type": "display_data"
    }
   ],
   "source": [
    "plt.figure(figsize=(10, 3))\n",
    "\n",
    "plt.subplot(1, 2, 1)\n",
    "plt.hist(df_b['xF'], bins=100);\n",
    "\n",
    "plt.subplot(1, 2, 2)\n",
    "plt.hist(df_b['pT'], bins=100);"
   ]
  },
  {
   "cell_type": "code",
   "execution_count": 21,
   "metadata": {},
   "outputs": [
    {
     "data": {
      "image/png": "[encoded data removed]",
      "text/plain": [
       "<Figure size 1000x300 with 2 Axes>"
      ]
     },
     "metadata": {},
     "output_type": "display_data"
    }
   ],
   "source": [
    "plt.figure(figsize=(10, 3))\n",
    "\n",
    "plt.subplot(1, 2, 1)\n",
    "plt.hist(df['xF'], bins=1000);\n",
    "plt.xlim((-0.2, 2))\n",
    "\n",
    "plt.subplot(1, 2, 2)\n",
    "plt.hist(df['pT'], bins=100);"
   ]
  },
  {
   "cell_type": "code",
   "execution_count": 30,
   "metadata": {},
   "outputs": [
    {
     "name": "stdout",
     "output_type": "stream",
     "text": [
      "\n",
      " *------------------------------------------------------------------------------------* \n",
      " |                                                                                    | \n",
      " |  *------------------------------------------------------------------------------*  | \n",
      " |  |                                                                              |  | \n",
      " |  |                                                                              |  | \n",
      " |  |   PPP   Y   Y  TTTTT  H   H  III    A      Welcome to the Lund Monte Carlo!  |  | \n",
      " |  |   P  P   Y Y     T    H   H   I    A A     This is PYTHIA version 8.309      |  | \n",
      " |  |   PPP     Y      T    HHHHH   I   AAAAA    Last date of change: 16 Feb 2023  |  | \n",
      " |  |   P       Y      T    H   H   I   A   A                                      |  | \n",
      " |  |   P       Y      T    H   H  III  A   A    Now is 06 Nov 2023 at 21:27:53    |  | \n",
      " |  |                                                                              |  | \n",
      " |  |   Program documentation and an archive of historic versions is found on:     |  | \n",
      " |  |                                                                              |  | \n",
      " |  |                               https://pythia.org/                            |  | \n",
      " |  |                                                                              |  | \n",
      " |  |   PYTHIA is authored by a collaboration consisting of:                       |  | \n",
      " |  |                                                                              |  | \n",
      " |  |   Christian Bierlich, Nishita Desai, Leif Gellersen, Ilkka Helenius, Philip  |  | \n",
      " |  |   Ilten, Leif Lonnblad, Stephen Mrenna, Stefan Prestel, Christian Preuss,    |  | \n",
      " |  |   Torbjorn Sjostrand, Peter Skands, Marius Utheim and Rob Verheyen.          |  | \n",
      " |  |                                                                              |  | \n",
      " |  |   The complete list of authors, including contact information and            |  | \n",
      " |  |   affiliations, can be found on https://pythia.org/.                         |  | \n",
      " |  |   Problems or bugs should be reported on email at authors@pythia.org.        |  | \n",
      " |  |                                                                              |  | \n",
      " |  |   The main program reference is C. Bierlich et al,                           |  | \n",
      " |  |   'A comprehensive guide to the physics and usage of Pythia 8.3',            |  | \n",
      " |  |   SciPost Phys. Codebases 8-r8.3 (2022) [arXiv:2203.11601 [hep-ph]]          |  | \n",
      " |  |                                                                              |  | \n",
      " |  |   PYTHIA is released under the GNU General Public Licence version 2 or later.|  | \n",
      " |  |   Please respect the MCnet Guidelines for Event Generator Authors and Users. |  | \n",
      " |  |                                                                              |  | \n",
      " |  |   Disclaimer: this program comes without any guarantees.                     |  | \n",
      " |  |   Beware of errors and use common sense when interpreting results.           |  | \n",
      " |  |                                                                              |  | \n",
      " |  |   Copyright (C) 2023 Torbjorn Sjostrand                                      |  | \n",
      " |  |                                                                              |  | \n",
      " |  |                                                                              |  | \n",
      " |  *------------------------------------------------------------------------------*  | \n",
      " |                                                                                    | \n",
      " *------------------------------------------------------------------------------------* \n",
      "\n",
      "\n",
      " *-------  PYTHIA Process Initialization  --------------------------*\n",
      " |                                                                  |\n",
      " | We collide p+ with p+ at a CM energy of 1.727e+01 GeV            |\n",
      " |                                                                  |\n",
      " |------------------------------------------------------------------|\n",
      " |                                                    |             |\n",
      " | Subprocess                                    Code |   Estimated |\n",
      " |                                                    |    max (mb) |\n",
      " |                                                    |             |\n",
      " |------------------------------------------------------------------|\n",
      " |                                                    |             |\n",
      " | non-diffractive                                101 |   2.400e+01 |\n",
      " | A B -> A B elastic                             102 |   6.843e+00 |\n",
      " | A B -> X B single diffractive                  103 |   3.139e+00 |\n",
      " | A B -> A X single diffractive                  104 |   3.139e+00 |\n",
      " | A B -> X X double diffractive                  105 |   1.523e+00 |\n",
      " | A B -> A X B central diffractive               106 |   0.000e+00 |\n",
      " |                                                                  |\n",
      " *-------  End PYTHIA Process Initialization -----------------------*\n",
      "\n",
      " *-------  PYTHIA Multiparton Interactions Initialization  ---------* \n",
      " |                                                                  | \n",
      " |                   sigmaNonDiffractive =    24.00 mb              | \n",
      " |                                                                  | \n",
      " |    pT0 =  0.63 gives sigmaInteraction =    82.60 mb: accepted    | \n",
      " |                                                                  | \n",
      " *-------  End PYTHIA Multiparton Interactions Initialization  -----* \n",
      "\n",
      " *-------  PYTHIA Multiparton Interactions Initialization  ---------* \n",
      " |                                                                  | \n",
      " |   diffraction XB for p+ on p+                                    | \n",
      " |                                                                  | \n",
      " |   diffractive mass = 1.00e+01 GeV and sigmaNorm =    10.00 mb    | \n",
      " |    pT0 =  0.56 gives sigmaInteraction =    23.37 mb: accepted    | \n",
      " |   diffractive mass = 1.31e+01 GeV and sigmaNorm =    10.00 mb    | \n",
      " |    pT0 =  0.59 gives sigmaInteraction =    23.02 mb: accepted    | \n",
      " |   diffractive mass = 1.73e+01 GeV and sigmaNorm =    10.00 mb    | \n",
      " |    pT0 =  0.63 gives sigmaInteraction =    22.49 mb: accepted    | \n",
      " |                                                                  | \n",
      " *-------  End PYTHIA Multiparton Interactions Initialization  -----* \n",
      " PYTHIA Warning in MultipartonInteractions::init: maximum increased by factor 3.946\n",
      "\n",
      " *-------  PYTHIA Multiparton Interactions Initialization  ---------* \n",
      " |                                                                  | \n",
      " |   diffraction AX for p+ on p+                                    | \n",
      " |                                                                  | \n",
      " |   diffractive mass = 1.00e+01 GeV and sigmaNorm =    10.00 mb    | \n",
      " |    pT0 =  0.56 gives sigmaInteraction =    23.27 mb: accepted    | \n",
      " |   diffractive mass = 1.31e+01 GeV and sigmaNorm =    10.00 mb    | \n",
      " |    pT0 =  0.59 gives sigmaInteraction =    22.75 mb: accepted    | \n",
      " |   diffractive mass = 1.73e+01 GeV and sigmaNorm =    10.00 mb    | \n",
      " |    pT0 =  0.63 gives sigmaInteraction =    22.39 mb: accepted    | \n",
      " |                                                                  | \n",
      " *-------  End PYTHIA Multiparton Interactions Initialization  -----* \n",
      "\n",
      " *-------  PYTHIA Multiparton Interactions Initialization  ---------* \n",
      " |                                                                  | \n",
      " |   diffraction AXB for p+ on p+                                   | \n",
      " |                                                                  | \n",
      " |   diffractive mass = 1.00e+01 GeV and sigmaNorm =    10.00 mb    | \n",
      " |    pT0 =  0.56 gives sigmaInteraction =     5.27 mb: rejected    | \n",
      " |    pT0 =  0.50 gives sigmaInteraction =     7.89 mb: rejected    | \n",
      " |    pT0 =  0.45 gives sigmaInteraction =    11.84 mb: accepted    | \n",
      " |   diffractive mass = 1.31e+01 GeV and sigmaNorm =    10.00 mb    | \n",
      " |    pT0 =  0.59 gives sigmaInteraction =     4.76 mb: rejected    | \n",
      " |    pT0 =  0.53 gives sigmaInteraction =     6.98 mb: rejected    | \n",
      " |    pT0 =  0.48 gives sigmaInteraction =    10.39 mb: rejected    | \n",
      " |    pT0 =  0.43 gives sigmaInteraction =    15.52 mb: accepted    | \n",
      " |   diffractive mass = 1.73e+01 GeV and sigmaNorm =    10.00 mb    | \n",
      " |    pT0 =  0.63 gives sigmaInteraction =     4.22 mb: rejected    | \n",
      " |    pT0 =  0.56 gives sigmaInteraction =     6.12 mb: rejected    | \n",
      " |    pT0 =  0.51 gives sigmaInteraction =     8.97 mb: rejected    | \n",
      " |    pT0 =  0.46 gives sigmaInteraction =    13.34 mb: accepted    | \n",
      " |                                                                  | \n",
      " *-------  End PYTHIA Multiparton Interactions Initialization  -----* \n",
      "\n",
      " *-------  PYTHIA Flag + Mode + Parm + Word + FVec + MVec + PVec + WVec Settings (changes only)  ------------------* \n",
      " |                                                                                                                 | \n",
      " | Name                                          |                      Now |      Default         Min         Max | \n",
      " |                                               |                          |                                      | \n",
      " | Beams:eA                                      |                158.00000 |     7000.000         0.0             | \n",
      " | Beams:eB                                      |                      0.0 |     7000.000         0.0             | \n",
      " | Beams:frameType                               |                        2 |            1           1           5 | \n",
      " | SoftQCD:all                                   |                       on |          off                         | \n",
      " |                                                                                                                 | \n",
      " *-------  End PYTHIA Flag + Mode + Parm + Word + FVec + MVec + PVec + WVec Settings  -----------------------------* \n",
      "\n",
      " --------  PYTHIA Particle Data Table (changed only)  ------------------------------------------------------------------------------\n",
      " \n",
      "      id   name            antiName         spn chg col      m0        mWidth      mMin       mMax       tau0    res dec ext vis wid\n",
      "             no onMode   bRatio   meMode     products \n",
      "\n",
      " no particle data has been changed from its default value \n",
      "\n",
      " --------  End PYTHIA Particle Data Table  -----------------------------------------------------------------------------------------\n",
      "\n"
     ]
    },
    {
     "name": "stderr",
     "output_type": "stream",
     "text": [
      "  1%|          | 714/100000 [00:00<00:13, 7129.65it/s]"
     ]
    },
    {
     "name": "stdout",
     "output_type": "stream",
     "text": [
      "\n",
      " --------  PYTHIA Info Listing  ---------------------------------------- \n",
      " \n",
      " Beam A: id =   2212, pz =  8.584e+00, e =  8.635e+00, m =  9.383e-01.\n",
      " Beam B: id =   2212, pz = -8.584e+00, e =  8.635e+00, m =  9.383e-01.\n",
      "\n",
      " In 1: id =   21, x =  1.345e-01, pdf =  8.354e-01 at Q2 =  7.854e-02.\n",
      " In 2: id =   21, x =  1.225e-02, pdf =  1.542e+00 at same Q2.\n",
      "\n",
      " Process non-diffractive with code 101 is 2 -> 2.\n",
      " Subprocess g g -> g g with code 111 is 2 -> 2.\n",
      " It has sHat =  4.911e-01,    tHat = -9.816e-02,    uHat = -3.929e-01,\n",
      "       pTHat =  2.802e-01,   m3Hat =  0.000e+00,   m4Hat =  0.000e+00,\n",
      "    thetaHat =  9.270e-01,  phiHat =  4.019e+00.\n",
      "     alphaEM =  7.417e-03,  alphaS =  6.954e-01    at Q2 =  4.716e-01.\n",
      "\n",
      " Impact parameter b =  1.684e+00 gives enhancement factor =  5.015e-02.\n",
      " Max pT scale for MPI =  2.802e-01, ISR =  2.802e-01, FSR =  2.802e-01.\n",
      " Number of MPI =     1, ISR =     0, FSRproc =     0, FSRreson =     0.\n",
      "\n",
      " --------  End PYTHIA Info Listing  ------------------------------------\n",
      "\n",
      " --------  PYTHIA Event Listing  (hard process)  -----------------------------------------------------------------------------------\n",
      " \n",
      "    no         id  name            status     mothers   daughters     colours      p_x        p_y        p_z         e          m \n",
      "     0         90  (system)           -11     0     0     0     0     0     0      0.000      0.000    157.997    158.938     17.270\n",
      "     1       2212  (p+)               -12     0     0     3     0     0     0      0.000      0.000    157.997    158.000      0.938\n",
      "     2       2212  (p+)               -12     0     0     4     0     0     0      0.000      0.000     -0.000      0.938      0.938\n",
      "     3         21  (g)                -21     1     0     5     6   102   101      0.000      0.000     21.308     21.308      0.000\n",
      "     4         21  (g)                -21     2     0     5     6   103   102      0.000      0.000     -0.006      0.006      0.000\n",
      "     5         21  g                   23     3     4     0     0   104   101     -0.216     -0.179     17.048     17.050      0.000\n",
      "     6         21  g                   23     3     4     0     0   103   104      0.216      0.179      4.255      4.264      0.000\n",
      "                                   Charge sum:  0.000           Momentum sum:      0.000      0.000     21.302     21.314      0.701\n",
      "\n",
      " --------  End PYTHIA Event Listing  -----------------------------------------------------------------------------------------------\n",
      "\n",
      " --------  PYTHIA Event Listing  (complete event)  ---------------------------------------------------------------------------------\n",
      " \n",
      "    no         id  name            status     mothers   daughters     colours      p_x        p_y        p_z         e          m \n",
      "     0         90  (system)           -11     0     0     0     0     0     0      0.000      0.000    157.997    158.938     17.270\n",
      "     1       2212  (p+)               -12     0     0     7     0     0     0      0.000      0.000    157.997    158.000      0.938\n",
      "     2       2212  (p+)               -12     0     0     8     0     0     0      0.000      0.000     -0.000      0.938      0.938\n",
      "     3         21  (g)                -21     7     7     5     6   102   101      0.000      0.000     21.308     21.308      0.000\n",
      "     4         21  (g)                -21     8     8     5     6   103   102      0.000      0.000     -0.006      0.006      0.000\n",
      "     5         21  (g)                -23     3     4     9     9   104   101     -0.216     -0.179     17.048     17.050      0.000\n",
      "     6         21  (g)                -23     3     4    10    10   103   104      0.216      0.179      4.255      4.264      0.000\n",
      "     7         21  (g)                -61     1     0     3     3   102   101      0.427      0.566     33.148     33.155      0.000\n",
      "     8         21  (g)                -61     2     0     4     4   103   102      0.388      0.174      6.511      6.525      0.000\n",
      "     9         21  (g)                -62     5     5    21    21   104   101      0.049      0.144     16.998     16.998      0.000\n",
      "    10         21  (g)                -62     6     6    22    22   103   104      0.766      0.596     22.662     22.682      0.000\n",
      "    11       2101  (ud_0)             -63     1     0    16    16     0   102     -0.224     -0.378    114.488    114.491      0.579\n",
      "    12          2  (u)                -63     1     0    20    20   101     0     -0.203     -0.188      0.329      0.542      0.330\n",
      "    13       2101  (ud_0)             -63     2     0    23    23     0   103     -0.091     -0.100     -0.077      0.600      0.579\n",
      "    14          2  (u)                -63     2     0    15    15   102     0     -0.297     -0.074      3.597      3.625      0.330\n",
      "    15          2  (u)                -71    14    14    17    19   102     0     -0.297     -0.074      3.597      3.625      0.330\n",
      "    16       2101  (ud_0)             -71    11    11    17    19     0   102     -0.224     -0.378    114.488    114.491      0.579\n",
      "    17        213  (rho+)             -83    15    16    32    33     0     0     -0.015     -0.254     17.370     17.387      0.720\n",
      "    18        111  (pi0)              -83    15    16    40    41     0     0     -0.108      0.100      2.547      2.555      0.135\n",
      "    19       2112  n0                  84    15    16     0     0     0     0     -0.398     -0.298     98.169     98.175      0.940\n",
      "    20          2  (u)                -71    12    12    24    31   101     0     -0.203     -0.188      0.329      0.542      0.330\n",
      "    21         21  (g)                -71     9     9    24    31   104   101      0.049      0.144     16.998     16.998      0.000\n",
      "    22         21  (g)                -71    10    10    24    31   103   104      0.766      0.596     22.662     22.682      0.000\n",
      "    23       2101  (ud_0)             -71    13    13    24    31     0   103     -0.091     -0.100     -0.077      0.600      0.579\n",
      "    24        111  (pi0)              -83    20    23    42    43     0     0     -0.317      0.108      1.682      1.720      0.135\n",
      "    25        213  (rho+)             -83    20    23    34    35     0     0      0.188     -0.205      3.321      3.376      0.536\n",
      "    26       -211  pi-                 83    20    23     0     0     0     0      0.088     -0.044      2.469      2.475      0.140\n",
      "    27        213  (rho+)             -83    20    23    36    37     0     0     -0.214      0.465     12.415     12.455      0.852\n",
      "    28       -213  (rho-)             -83    20    23    38    39     0     0      0.433      0.195     14.864     14.897      0.858\n",
      "    29        321  K+                  84    20    23     0     0     0     0      0.002     -0.079      1.121      1.227      0.494\n",
      "    30       -321  K-                  84    20    23     0     0     0     0      0.139      0.766      2.737      2.888      0.494\n",
      "    31       2212  p+                  84    20    23     0     0     0     0      0.202     -0.754      1.302      1.785      0.938\n",
      "    32        211  pi+                 91    17     0     0     0     0     0      0.048     -0.321      3.955      3.971      0.140\n",
      "    33        111  (pi0)              -91    17     0    44    45     0     0     -0.063      0.067     13.415     13.416      0.135\n",
      "    34        211  pi+                 91    25     0     0     0     0     0     -0.019     -0.278      2.363      2.383      0.140\n",
      "    35        111  (pi0)              -91    25     0    46    47     0     0      0.207      0.073      0.959      0.993      0.135\n",
      "    36        211  pi+                 91    27     0     0     0     0     0     -0.005     -0.059      8.046      8.047      0.140\n",
      "    37        111  (pi0)              -91    27     0    48    49     0     0     -0.209      0.524      4.370      4.408      0.135\n",
      "    38       -211  pi-                 91    28     0     0     0     0     0      0.127      0.121      0.882      0.910      0.140\n",
      "    39        111  (pi0)              -91    28     0    50    51     0     0      0.305      0.074     13.982     13.986      0.135\n",
      "    40         22  gamma               91    18     0     0     0     0     0     -0.023      0.079      0.569      0.575      0.000\n",
      "    41         22  gamma               91    18     0     0     0     0     0     -0.085      0.021      1.977      1.979      0.000\n",
      "    42         22  gamma               91    24     0     0     0     0     0     -0.159      0.001      0.982      0.995      0.000\n",
      "    43         22  gamma               91    24     0     0     0     0     0     -0.158      0.107      0.700      0.725      0.000\n",
      "    44         22  gamma               91    33     0     0     0     0     0     -0.089     -0.002      7.743      7.743      0.000\n",
      "    45         22  gamma               91    33     0     0     0     0     0      0.026      0.069      5.672      5.673      0.000\n",
      "    46         22  gamma               91    35     0     0     0     0     0      0.115      0.106      0.507      0.530      0.000\n",
      "    47         22  gamma               91    35     0     0     0     0     0      0.092     -0.033      0.452      0.462      0.000\n",
      "    48         22  gamma               91    37     0     0     0     0     0     -0.011      0.006      0.025      0.028      0.000\n",
      "    49         22  gamma               91    37     0     0     0     0     0     -0.197      0.518      4.345      4.380      0.000\n",
      "    50         22  gamma               91    39     0     0     0     0     0      0.104     -0.015      6.769      6.770      0.000\n",
      "    51         22  gamma               91    39     0     0     0     0     0      0.201      0.089      7.213      7.217      0.000\n",
      "                                   Charge sum:  2.000           Momentum sum:     -0.000     -0.000    157.997    158.938     17.270\n",
      "\n",
      " --------  End PYTHIA Event Listing  -----------------------------------------------------------------------------------------------\n",
      " PYTHIA Error in BeamRemnants::setKinematics: kinematics construction failed  \n",
      " PYTHIA Warning in StringFragmentation::fragmentToJunction: bad convergence junction rest frame  \n",
      "\n",
      " Pythia::next(): 1000 events have been generated \n",
      " PYTHIA Warning in MultipartonInteractions::pTnext: weight above unity  \n"
     ]
    },
    {
     "name": "stderr",
     "output_type": "stream",
     "text": [
      "  3%|▎         | 2901/100000 [00:00<00:13, 7069.25it/s]"
     ]
    },
    {
     "name": "stdout",
     "output_type": "stream",
     "text": [
      "\n",
      " Pythia::next(): 2000 events have been generated \n",
      "\n",
      " Pythia::next(): 3000 events have been generated \n"
     ]
    },
    {
     "name": "stderr",
     "output_type": "stream",
     "text": [
      "  5%|▌         | 5102/100000 [00:00<00:13, 7017.41it/s]"
     ]
    },
    {
     "name": "stdout",
     "output_type": "stream",
     "text": [
      "\n",
      " Pythia::next(): 4000 events have been generated \n",
      "\n",
      " Pythia::next(): 5000 events have been generated \n"
     ]
    },
    {
     "name": "stderr",
     "output_type": "stream",
     "text": [
      "  7%|▋         | 7265/100000 [00:01<00:12, 7169.18it/s]"
     ]
    },
    {
     "name": "stdout",
     "output_type": "stream",
     "text": [
      "\n",
      " Pythia::next(): 6000 events have been generated \n",
      "\n",
      " Pythia::next(): 7000 events have been generated \n"
     ]
    },
    {
     "name": "stderr",
     "output_type": "stream",
     "text": [
      " 10%|▉         | 9504/100000 [00:01<00:12, 7367.75it/s]"
     ]
    },
    {
     "name": "stdout",
     "output_type": "stream",
     "text": [
      "\n",
      " Pythia::next(): 8000 events have been generated \n",
      "\n",
      " Pythia::next(): 9000 events have been generated \n"
     ]
    },
    {
     "name": "stderr",
     "output_type": "stream",
     "text": [
      " 11%|█         | 10970/100000 [00:01<00:12, 7174.61it/s]"
     ]
    },
    {
     "name": "stdout",
     "output_type": "stream",
     "text": [
      "\n",
      " Pythia::next(): 10000 events have been generated \n",
      "\n",
      " Pythia::next(): 11000 events have been generated \n",
      " PYTHIA Warning in Pythia::check: energy-momentum not quite conserved  \n"
     ]
    },
    {
     "name": "stderr",
     "output_type": "stream",
     "text": [
      " 13%|█▎        | 13182/100000 [00:01<00:11, 7286.45it/s]"
     ]
    },
    {
     "name": "stdout",
     "output_type": "stream",
     "text": [
      "\n",
      " Pythia::next(): 12000 events have been generated \n",
      "\n",
      " Pythia::next(): 13000 events have been generated \n"
     ]
    },
    {
     "name": "stderr",
     "output_type": "stream",
     "text": [
      " 15%|█▌        | 15400/100000 [00:02<00:11, 7352.79it/s]"
     ]
    },
    {
     "name": "stdout",
     "output_type": "stream",
     "text": [
      "\n",
      " Pythia::next(): 14000 events have been generated \n",
      "\n",
      " Pythia::next(): 15000 events have been generated \n",
      " PYTHIA Error in MiniStringFragmentation::fragment: no 1- or 2-body state found above mass threshold  \n",
      " PYTHIA Error in Pythia::next: hadronLevel failed; try again  \n"
     ]
    },
    {
     "name": "stderr",
     "output_type": "stream",
     "text": [
      " 17%|█▋        | 16878/100000 [00:02<00:11, 7348.96it/s]"
     ]
    },
    {
     "name": "stdout",
     "output_type": "stream",
     "text": [
      "\n",
      " Pythia::next(): 16000 events have been generated \n",
      "\n",
      " Pythia::next(): 17000 events have been generated \n"
     ]
    },
    {
     "name": "stderr",
     "output_type": "stream",
     "text": [
      " 19%|█▉        | 19117/100000 [00:02<00:11, 7333.79it/s]"
     ]
    },
    {
     "name": "stdout",
     "output_type": "stream",
     "text": [
      " PYTHIA Error in BeamRemnants::setKinematics: no momentum left for beam remnants  \n",
      " PYTHIA Error in Pythia::next: partonLevel failed; try again  \n",
      "\n",
      " Pythia::next(): 18000 events have been generated \n",
      "\n",
      " Pythia::next(): 19000 events have been generated \n"
     ]
    },
    {
     "name": "stderr",
     "output_type": "stream",
     "text": [
      " 21%|██▏       | 21408/100000 [00:02<00:10, 7543.17it/s]"
     ]
    },
    {
     "name": "stdout",
     "output_type": "stream",
     "text": [
      "\n",
      " Pythia::next(): 20000 events have been generated \n",
      "\n",
      " Pythia::next(): 21000 events have been generated \n",
      "\n",
      " Pythia::next(): 22000 events have been generated \n"
     ]
    },
    {
     "name": "stderr",
     "output_type": "stream",
     "text": [
      " 24%|██▍       | 24422/100000 [00:03<00:10, 7313.26it/s]"
     ]
    },
    {
     "name": "stdout",
     "output_type": "stream",
     "text": [
      "\n",
      " Pythia::next(): 23000 events have been generated \n",
      "\n",
      " Pythia::next(): 24000 events have been generated \n"
     ]
    },
    {
     "name": "stderr",
     "output_type": "stream",
     "text": [
      " 26%|██▌       | 25895/100000 [00:03<00:10, 7308.23it/s]"
     ]
    },
    {
     "name": "stdout",
     "output_type": "stream",
     "text": [
      "\n",
      " Pythia::next(): 25000 events have been generated \n",
      "\n",
      " Pythia::next(): 26000 events have been generated \n"
     ]
    },
    {
     "name": "stderr",
     "output_type": "stream",
     "text": [
      " 28%|██▊       | 28129/100000 [00:03<00:09, 7307.32it/s]"
     ]
    },
    {
     "name": "stdout",
     "output_type": "stream",
     "text": [
      "\n",
      " Pythia::next(): 27000 events have been generated \n",
      " PYTHIA Warning in SimpleSpaceShower::branch: used up beam momentum; retrying parton level  \n",
      "\n",
      " Pythia::next(): 28000 events have been generated \n"
     ]
    },
    {
     "name": "stderr",
     "output_type": "stream",
     "text": [
      " 30%|███       | 30341/100000 [00:04<00:09, 7269.85it/s]"
     ]
    },
    {
     "name": "stdout",
     "output_type": "stream",
     "text": [
      "\n",
      " Pythia::next(): 29000 events have been generated \n",
      "\n",
      " Pythia::next(): 30000 events have been generated \n"
     ]
    },
    {
     "name": "stderr",
     "output_type": "stream",
     "text": [
      " 32%|███▏      | 31888/100000 [00:04<00:09, 7352.03it/s]"
     ]
    },
    {
     "name": "stdout",
     "output_type": "stream",
     "text": [
      "\n",
      " Pythia::next(): 31000 events have been generated \n",
      "\n",
      " Pythia::next(): 32000 events have been generated \n"
     ]
    },
    {
     "name": "stderr",
     "output_type": "stream",
     "text": [
      " 34%|███▍      | 34199/100000 [00:04<00:08, 7377.92it/s]"
     ]
    },
    {
     "name": "stdout",
     "output_type": "stream",
     "text": [
      "\n",
      " Pythia::next(): 33000 events have been generated \n",
      "\n",
      " Pythia::next(): 34000 events have been generated \n"
     ]
    },
    {
     "name": "stderr",
     "output_type": "stream",
     "text": [
      " 36%|███▋      | 36448/100000 [00:04<00:08, 7426.41it/s]"
     ]
    },
    {
     "name": "stdout",
     "output_type": "stream",
     "text": [
      "\n",
      " Pythia::next(): 35000 events have been generated \n",
      "\n",
      " Pythia::next(): 36000 events have been generated \n",
      " PYTHIA Error in StringFragmentation::fragment: stuck in joining  \n"
     ]
    },
    {
     "name": "stderr",
     "output_type": "stream",
     "text": [
      " 38%|███▊      | 37930/100000 [00:05<00:08, 7366.47it/s]"
     ]
    },
    {
     "name": "stdout",
     "output_type": "stream",
     "text": [
      "\n",
      " Pythia::next(): 37000 events have been generated \n",
      "\n",
      " Pythia::next(): 38000 events have been generated \n"
     ]
    },
    {
     "name": "stderr",
     "output_type": "stream",
     "text": [
      " 41%|████      | 40900/100000 [00:05<00:08, 7383.73it/s]"
     ]
    },
    {
     "name": "stdout",
     "output_type": "stream",
     "text": [
      "\n",
      " Pythia::next(): 39000 events have been generated \n",
      "\n",
      " Pythia::next(): 40000 events have been generated \n",
      "\n",
      " Pythia::next(): 41000 events have been generated \n"
     ]
    },
    {
     "name": "stderr",
     "output_type": "stream",
     "text": [
      " 43%|████▎     | 43131/100000 [00:05<00:07, 7408.82it/s]"
     ]
    },
    {
     "name": "stdout",
     "output_type": "stream",
     "text": [
      "\n",
      " Pythia::next(): 42000 events have been generated \n",
      "\n",
      " Pythia::next(): 43000 events have been generated \n"
     ]
    },
    {
     "name": "stderr",
     "output_type": "stream",
     "text": [
      " 45%|████▌     | 45329/100000 [00:06<00:07, 7025.84it/s]"
     ]
    },
    {
     "name": "stdout",
     "output_type": "stream",
     "text": [
      "\n",
      " Pythia::next(): 44000 events have been generated \n",
      "\n",
      " Pythia::next(): 45000 events have been generated \n"
     ]
    },
    {
     "name": "stderr",
     "output_type": "stream",
     "text": [
      " 47%|████▋     | 46776/100000 [00:06<00:07, 7086.75it/s]"
     ]
    },
    {
     "name": "stdout",
     "output_type": "stream",
     "text": [
      "\n",
      " Pythia::next(): 46000 events have been generated \n",
      "\n",
      " Pythia::next(): 47000 events have been generated \n"
     ]
    },
    {
     "name": "stderr",
     "output_type": "stream",
     "text": [
      " 49%|████▉     | 49023/100000 [00:06<00:06, 7354.19it/s]"
     ]
    },
    {
     "name": "stdout",
     "output_type": "stream",
     "text": [
      "\n",
      " Pythia::next(): 48000 events have been generated \n",
      "\n",
      " Pythia::next(): 49000 events have been generated \n"
     ]
    },
    {
     "name": "stderr",
     "output_type": "stream",
     "text": [
      " 51%|█████     | 51233/100000 [00:07<00:06, 7284.80it/s]"
     ]
    },
    {
     "name": "stdout",
     "output_type": "stream",
     "text": [
      "\n",
      " Pythia::next(): 50000 events have been generated \n",
      "\n",
      " Pythia::next(): 51000 events have been generated \n"
     ]
    },
    {
     "name": "stderr",
     "output_type": "stream",
     "text": [
      " 53%|█████▎    | 53433/100000 [00:07<00:06, 7236.49it/s]"
     ]
    },
    {
     "name": "stdout",
     "output_type": "stream",
     "text": [
      "\n",
      " Pythia::next(): 52000 events have been generated \n",
      "\n",
      " Pythia::next(): 53000 events have been generated \n"
     ]
    },
    {
     "name": "stderr",
     "output_type": "stream",
     "text": [
      " 55%|█████▍    | 54883/100000 [00:07<00:06, 7177.30it/s]"
     ]
    },
    {
     "name": "stdout",
     "output_type": "stream",
     "text": [
      "\n",
      " Pythia::next(): 54000 events have been generated \n"
     ]
    },
    {
     "name": "stderr",
     "output_type": "stream",
     "text": [
      " 56%|█████▋    | 56319/100000 [00:07<00:06, 7011.30it/s]"
     ]
    },
    {
     "name": "stdout",
     "output_type": "stream",
     "text": [
      "\n",
      " Pythia::next(): 55000 events have been generated \n",
      "\n",
      " Pythia::next(): 56000 events have been generated \n"
     ]
    },
    {
     "name": "stderr",
     "output_type": "stream",
     "text": [
      " 58%|█████▊    | 58458/100000 [00:08<00:05, 7095.92it/s]"
     ]
    },
    {
     "name": "stdout",
     "output_type": "stream",
     "text": [
      "\n",
      " Pythia::next(): 57000 events have been generated \n",
      "\n",
      " Pythia::next(): 58000 events have been generated \n"
     ]
    },
    {
     "name": "stderr",
     "output_type": "stream",
     "text": [
      " 60%|█████▉    | 59929/100000 [00:08<00:05, 7181.63it/s]"
     ]
    },
    {
     "name": "stdout",
     "output_type": "stream",
     "text": [
      "\n",
      " Pythia::next(): 59000 events have been generated \n",
      "\n",
      " Pythia::next(): 60000 events have been generated \n"
     ]
    },
    {
     "name": "stderr",
     "output_type": "stream",
     "text": [
      " 62%|██████▏   | 62124/100000 [00:08<00:05, 7256.68it/s]"
     ]
    },
    {
     "name": "stdout",
     "output_type": "stream",
     "text": [
      "\n",
      " Pythia::next(): 61000 events have been generated \n",
      "\n",
      " Pythia::next(): 62000 events have been generated \n"
     ]
    },
    {
     "name": "stderr",
     "output_type": "stream",
     "text": [
      " 64%|██████▍   | 64272/100000 [00:08<00:05, 7031.00it/s]"
     ]
    },
    {
     "name": "stdout",
     "output_type": "stream",
     "text": [
      "\n",
      " Pythia::next(): 63000 events have been generated \n",
      "\n",
      " Pythia::next(): 64000 events have been generated \n"
     ]
    },
    {
     "name": "stderr",
     "output_type": "stream",
     "text": [
      " 66%|██████▌   | 65736/100000 [00:09<00:04, 7134.69it/s]"
     ]
    },
    {
     "name": "stdout",
     "output_type": "stream",
     "text": [
      "\n",
      " Pythia::next(): 65000 events have been generated \n",
      "\n",
      " Pythia::next(): 66000 events have been generated \n"
     ]
    },
    {
     "name": "stderr",
     "output_type": "stream",
     "text": [
      " 68%|██████▊   | 67895/100000 [00:09<00:04, 7135.27it/s]"
     ]
    },
    {
     "name": "stdout",
     "output_type": "stream",
     "text": [
      "\n",
      " Pythia::next(): 67000 events have been generated \n",
      "\n",
      " Pythia::next(): 68000 events have been generated \n"
     ]
    },
    {
     "name": "stderr",
     "output_type": "stream",
     "text": [
      " 70%|███████   | 70076/100000 [00:09<00:04, 7143.13it/s]"
     ]
    },
    {
     "name": "stdout",
     "output_type": "stream",
     "text": [
      "\n",
      " Pythia::next(): 69000 events have been generated \n",
      "\n",
      " Pythia::next(): 70000 events have been generated \n"
     ]
    },
    {
     "name": "stderr",
     "output_type": "stream",
     "text": [
      " 72%|███████▏  | 72268/100000 [00:09<00:03, 7141.23it/s]"
     ]
    },
    {
     "name": "stdout",
     "output_type": "stream",
     "text": [
      "\n",
      " Pythia::next(): 71000 events have been generated \n",
      "\n",
      " Pythia::next(): 72000 events have been generated \n"
     ]
    },
    {
     "name": "stderr",
     "output_type": "stream",
     "text": [
      " 74%|███████▎  | 73730/100000 [00:10<00:03, 7131.06it/s]"
     ]
    },
    {
     "name": "stdout",
     "output_type": "stream",
     "text": [
      "\n",
      " Pythia::next(): 73000 events have been generated \n",
      "\n",
      " Pythia::next(): 74000 events have been generated \n"
     ]
    },
    {
     "name": "stderr",
     "output_type": "stream",
     "text": [
      " 76%|███████▌  | 75867/100000 [00:10<00:03, 7073.81it/s]"
     ]
    },
    {
     "name": "stdout",
     "output_type": "stream",
     "text": [
      "\n",
      " Pythia::next(): 75000 events have been generated \n",
      "\n",
      " Pythia::next(): 76000 events have been generated \n"
     ]
    },
    {
     "name": "stderr",
     "output_type": "stream",
     "text": [
      " 78%|███████▊  | 78021/100000 [00:10<00:03, 6958.75it/s]"
     ]
    },
    {
     "name": "stdout",
     "output_type": "stream",
     "text": [
      "\n",
      " Pythia::next(): 77000 events have been generated \n",
      "\n",
      " Pythia::next(): 78000 events have been generated \n"
     ]
    },
    {
     "name": "stderr",
     "output_type": "stream",
     "text": [
      " 80%|████████  | 80173/100000 [00:11<00:02, 7065.88it/s]"
     ]
    },
    {
     "name": "stdout",
     "output_type": "stream",
     "text": [
      "\n",
      " Pythia::next(): 79000 events have been generated \n",
      "\n",
      " Pythia::next(): 80000 events have been generated \n"
     ]
    },
    {
     "name": "stderr",
     "output_type": "stream",
     "text": [
      " 82%|████████▏ | 82399/100000 [00:11<00:02, 7304.93it/s]"
     ]
    },
    {
     "name": "stdout",
     "output_type": "stream",
     "text": [
      "\n",
      " Pythia::next(): 81000 events have been generated \n",
      "\n",
      " Pythia::next(): 82000 events have been generated \n"
     ]
    },
    {
     "name": "stderr",
     "output_type": "stream",
     "text": [
      " 85%|████████▍ | 84586/100000 [00:11<00:02, 7237.52it/s]"
     ]
    },
    {
     "name": "stdout",
     "output_type": "stream",
     "text": [
      "\n",
      " Pythia::next(): 83000 events have been generated \n",
      "\n",
      " Pythia::next(): 84000 events have been generated \n"
     ]
    },
    {
     "name": "stderr",
     "output_type": "stream",
     "text": [
      " 86%|████████▌ | 85991/100000 [00:13<00:06, 2036.55it/s]"
     ]
    },
    {
     "name": "stdout",
     "output_type": "stream",
     "text": [
      "\n",
      " Pythia::next(): 85000 events have been generated \n",
      "\n",
      " Pythia::next(): 86000 events have been generated \n"
     ]
    },
    {
     "name": "stderr",
     "output_type": "stream",
     "text": [
      " 88%|████████▊ | 88087/100000 [00:13<00:03, 3779.35it/s]"
     ]
    },
    {
     "name": "stdout",
     "output_type": "stream",
     "text": [
      "\n",
      " Pythia::next(): 87000 events have been generated \n",
      "\n",
      " Pythia::next(): 88000 events have been generated \n"
     ]
    },
    {
     "name": "stderr",
     "output_type": "stream",
     "text": [
      " 90%|█████████ | 90197/100000 [00:13<00:01, 5455.89it/s]"
     ]
    },
    {
     "name": "stdout",
     "output_type": "stream",
     "text": [
      "\n",
      " Pythia::next(): 89000 events have been generated \n",
      "\n",
      " Pythia::next(): 90000 events have been generated \n"
     ]
    },
    {
     "name": "stderr",
     "output_type": "stream",
     "text": [
      " 92%|█████████▏| 92344/100000 [00:13<00:01, 6475.16it/s]"
     ]
    },
    {
     "name": "stdout",
     "output_type": "stream",
     "text": [
      "\n",
      " Pythia::next(): 91000 events have been generated \n",
      "\n",
      " Pythia::next(): 92000 events have been generated \n"
     ]
    },
    {
     "name": "stderr",
     "output_type": "stream",
     "text": [
      " 94%|█████████▍| 93832/100000 [00:14<00:00, 6804.47it/s]"
     ]
    },
    {
     "name": "stdout",
     "output_type": "stream",
     "text": [
      "\n",
      " Pythia::next(): 93000 events have been generated \n",
      "\n",
      " Pythia::next(): 94000 events have been generated \n"
     ]
    },
    {
     "name": "stderr",
     "output_type": "stream",
     "text": [
      " 96%|█████████▌| 95969/100000 [00:14<00:00, 6960.43it/s]"
     ]
    },
    {
     "name": "stdout",
     "output_type": "stream",
     "text": [
      "\n",
      " Pythia::next(): 95000 events have been generated \n",
      "\n",
      " Pythia::next(): 96000 events have been generated \n"
     ]
    },
    {
     "name": "stderr",
     "output_type": "stream",
     "text": [
      " 98%|█████████▊| 98100/100000 [00:14<00:00, 6964.36it/s]"
     ]
    },
    {
     "name": "stdout",
     "output_type": "stream",
     "text": [
      "\n",
      " Pythia::next(): 97000 events have been generated \n",
      "\n",
      " Pythia::next(): 98000 events have been generated \n"
     ]
    },
    {
     "name": "stderr",
     "output_type": "stream",
     "text": [
      "100%|██████████| 100000/100000 [00:15<00:00, 6634.62it/s]"
     ]
    },
    {
     "name": "stdout",
     "output_type": "stream",
     "text": [
      "\n",
      " Pythia::next(): 99000 events have been generated \n"
     ]
    },
    {
     "name": "stderr",
     "output_type": "stream",
     "text": [
      "\n"
     ]
    }
   ],
   "source": [
    "pythia = pythia8.Pythia('printBanner = false')\n",
    "\n",
    "file = open(f'pi.csv', 'w')\n",
    "file.write('id,pT,xF,E\\n')\n",
    "\n",
    "pythia.readFile('config/config.cmnd')\n",
    "\n",
    "boost = pythia8.Vec4()\n",
    "boost.pz(mp * ((1 + (pz / mp) ** 2) ** 0.5 - 1) ** 0.5)\n",
    "boost.e((boost.pz() ** 2 + mp ** 2) ** 0.5)\n",
    "\n",
    "pythia.init()\n",
    "\n",
    "for event in tqdm(range(N_events)):\n",
    "\n",
    "    if not pythia.next(): continue\n",
    "    \n",
    "    entries = pythia.event.size()\n",
    "\n",
    "    for j in range(entries):\n",
    "\n",
    "        particle = pythia.event[j]\n",
    "\n",
    "        id = particle.id()\n",
    "        \n",
    "        if abs(int(id)) == 211:\n",
    "\n",
    "            P_mu = particle.p()\n",
    "            pT = P_mu.pT()\n",
    "            xF = 2 * P_mu.pz() / root_s\n",
    "            E = P_mu.e()\n",
    "            file.write(f'{id},{pT},{xF},{E}\\n')\n",
    "\n",
    "file.close()"
   ]
  },
  {
   "cell_type": "code",
   "execution_count": 31,
   "metadata": {},
   "outputs": [],
   "source": [
    "df = pd.read_csv('pi.csv')"
   ]
  },
  {
   "cell_type": "code",
   "execution_count": 33,
   "metadata": {},
   "outputs": [],
   "source": [
    "pp = df[df['id'] == 211].sample(n=10000, replace=True)\n",
    "pm = df[df['id'] == -211].sample(n=10000, replace=True)"
   ]
  },
  {
   "cell_type": "code",
   "execution_count": 40,
   "metadata": {},
   "outputs": [],
   "source": [
    "data = pd.concat([pp, pm]).reset_index(drop=True).sample(frac=1).reset_index(drop=True)"
   ]
  },
  {
   "cell_type": "code",
   "execution_count": 42,
   "metadata": {},
   "outputs": [],
   "source": [
    "data.to_csv('pi.csv', index=False)"
   ]
  }
 ],
 "metadata": {
  "kernelspec": {
   "display_name": "Python 3",
   "language": "python",
   "name": "python3"
  },
  "language_info": {
   "codemirror_mode": {
    "name": "ipython",
    "version": 3
   },
   "file_extension": ".py",
   "mimetype": "text/x-python",
   "name": "python",
   "nbconvert_exporter": "python",
   "pygments_lexer": "ipython3",
   "version": "3.10.13"
  }
 },
 "nbformat": 4,
 "nbformat_minor": 2
}
