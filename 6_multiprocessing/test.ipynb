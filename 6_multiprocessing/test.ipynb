{
 "cells": [
  {
   "cell_type": "code",
   "execution_count": 6,
   "metadata": {},
   "outputs": [],
   "source": [
    "import pandas as pd\n",
    "import test2"
   ]
  },
  {
   "cell_type": "code",
   "execution_count": 8,
   "metadata": {},
   "outputs": [],
   "source": [
    "instructions = {\n",
    "    'Print:quiet': 'on',\n",
    "\n",
    "    'Beams:frameType': '2',\n",
    "\n",
    "    'Beams:idA': '2212',\n",
    "    'Beams:idB': '2212',\n",
    "\n",
    "    'Beams:eA': '158',\n",
    "    'Beams:eB': '0',\n",
    "\n",
    "    'SoftQCD:all': 'on',\n",
    "\n",
    "    'Tune:pp': '1',\n",
    "\n",
    "    'SigmaDiffractive:dampen': 'on',\n",
    "    'SpaceShower:phiIntAsym': 'on',\n",
    "    'SpaceShower:phiPolAsym': 'on',\n",
    "    'SpaceShower:rapidityOrder': 'on',\n",
    "    'SpaceShower:rapidityOrderMPI': 'on',\n",
    "    'SpaceShower:samePTasMPI': 'off',\n",
    "    'TimeShower:dampenBeamRecoil': 'on',\n",
    "    'TimeShower:phiPolAsym': 'on',\n",
    "\n",
    "    'MultipartonInteractions:ecmRef': '1800',\n",
    "    }"
   ]
  },
  {
   "cell_type": "code",
   "execution_count": null,
   "metadata": {},
   "outputs": [],
   "source": [
    "df = test2.run(instructions, int(5e6))"
   ]
  },
  {
   "cell_type": "code",
   "execution_count": 23,
   "metadata": {},
   "outputs": [
    {
     "name": "stdout",
     "output_type": "stream",
     "text": [
      "<class 'pandas.core.frame.DataFrame'>\n",
      "RangeIndex: 266312 entries, 0 to 266311\n",
      "Data columns (total 4 columns):\n",
      " #   Column  Non-Null Count   Dtype  \n",
      "---  ------  --------------   -----  \n",
      " 0   id      266312 non-null  int64  \n",
      " 1   pT      266312 non-null  float64\n",
      " 2   xF      266312 non-null  float64\n",
      " 3   E       266312 non-null  float64\n",
      "dtypes: float64(3), int64(1)\n",
      "memory usage: 8.1 MB\n"
     ]
    }
   ],
   "source": [
    "pd.read_csv('../res.csv').info()"
   ]
  }
 ],
 "metadata": {
  "kernelspec": {
   "display_name": "venv",
   "language": "python",
   "name": "python3"
  },
  "language_info": {
   "codemirror_mode": {
    "name": "ipython",
    "version": 3
   },
   "file_extension": ".py",
   "mimetype": "text/x-python",
   "name": "python",
   "nbconvert_exporter": "python",
   "pygments_lexer": "ipython3",
   "version": "3.10.13"
  }
 },
 "nbformat": 4,
 "nbformat_minor": 2
}
