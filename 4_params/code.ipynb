{
 "cells": [
  {
   "cell_type": "code",
   "execution_count": 9,
   "metadata": {},
   "outputs": [],
   "source": [
    "mp = 0.93827                                                           #proton mass\n",
    "pz = 158.0                                                             #beam momentum\n",
    "root_s = (2 * mp * (mp + (mp ** 2 + pz ** 2) ** 0.5)) ** 0.5           #sqrt(s)\n",
    "norm = 3.141593 * root_s / 2                                           #normalization in new coordinats\n",
    "sig_trig = 28.23                                                       #trigger cross section"
   ]
  },
  {
   "cell_type": "code",
   "execution_count": 10,
   "metadata": {},
   "outputs": [],
   "source": [
    "import sys\n",
    "\n",
    "sys.path.insert(0, '/opt/homebrew/Cellar/pythia/8.309/lib')\n",
    "\n",
    "import pythia8"
   ]
  },
  {
   "cell_type": "code",
   "execution_count": 11,
   "metadata": {},
   "outputs": [],
   "source": [
    "N_events = int(1e6) \n",
    "ids = [-211, 211, -321, 321]"
   ]
  },
  {
   "cell_type": "code",
   "execution_count": 12,
   "metadata": {},
   "outputs": [],
   "source": [
    "import os\n",
    "from tqdm import tqdm"
   ]
  },
  {
   "cell_type": "code",
   "execution_count": 13,
   "metadata": {},
   "outputs": [],
   "source": [
    "def gen_data(exp_name, conf_file, tune_pp=14, n_events=int(1e6), additional_instructions={}):\n",
    "\n",
    "    try:\n",
    "    \n",
    "        os.mkdir(f'gen_data/{exp_name}')\n",
    "    \n",
    "    except FileExistsError: pass\n",
    "\n",
    "    pythia = pythia8.Pythia(\"\", False)\n",
    "\n",
    "    files = dict(zip(ids, [open(f'gen_data/{exp_name}/{id}.csv', 'w') for id in ids]))\n",
    "\n",
    "    for id in ids: files[id].write('pT,xF,E\\n')\n",
    "\n",
    "    pythia.readFile(conf_file)\n",
    "    pythia.readString(f'Tune:pp = {tune_pp}')\n",
    "        \n",
    "    for inst, val in  additional_instructions.items():\n",
    "            \n",
    "        pythia.readString(f'{inst} = {val}')\n",
    "\n",
    "    boost = pythia8.Vec4()\n",
    "    boost.pz(mp * ((1 + (pz / mp) ** 2) ** 0.5 - 1) ** 0.5)\n",
    "    boost.e((boost.pz() ** 2 + mp ** 2) ** 0.5)\n",
    "\n",
    "    pythia.init()\n",
    "\n",
    "    for _ in tqdm(range(n_events)):\n",
    "\n",
    "        if not pythia.next(): continue\n",
    "        \n",
    "        entries = pythia.event.size()\n",
    "\n",
    "        for j in range(entries):\n",
    "\n",
    "            particle = pythia.event[j]\n",
    "\n",
    "            id = particle.id()\n",
    "            \n",
    "            if abs(int(id)) == 211 or abs(int(id)) == 321:\n",
    "\n",
    "                P_mu = particle.p()\n",
    "\n",
    "                P_mu.bstback(boost)\n",
    "\n",
    "                pT = P_mu.pT()\n",
    "                xF = 2 * P_mu.pz() / root_s\n",
    "                E = P_mu.e()\n",
    "\n",
    "                files[id].write(f'{pT},{xF},{E}\\n')\n",
    "\n",
    "    sig_total = pythia.getSigmaTotal()\n",
    "\n",
    "    sigma_file = open(f'gen_data/{exp_name}/sigma_total.txt', 'w')\n",
    "    sigma_file.write(f'{sig_total}')\n",
    "    sigma_file.close()\n",
    "\n",
    "    for id in ids: files[id].close()"
   ]
  },
  {
   "cell_type": "code",
   "execution_count": 14,
   "metadata": {},
   "outputs": [],
   "source": [
    "params_file = open('params.txt', 'r')"
   ]
  },
  {
   "cell_type": "code",
   "execution_count": 15,
   "metadata": {},
   "outputs": [],
   "source": [
    "params = {\n",
    "    'SigmaDiffractive:dampen': 'on',\n",
    "    'SpaceShower:phiIntAsym': 'on',\n",
    "    'SpaceShower:phiPolAsym': 'on',\n",
    "    'SpaceShower:rapidityOrder': 'on',\n",
    "    'SpaceShower:rapidityOrderMPI': 'on',\n",
    "    'SpaceShower:samePTasMPI': 'off',\n",
    "    'TimeShower:dampenBeamRecoil': 'on',\n",
    "    'TimeShower:phiPolAsym': 'on'\n",
    "}\n",
    "\n",
    "baseline = len(params)\n",
    "\n",
    "for line in params_file.readlines():\n",
    "\n",
    "    param = line.split('|')\n",
    "\n",
    "    params[param[1].replace(\" \", \"\")] = float(param[3])"
   ]
  },
  {
   "cell_type": "code",
   "execution_count": 16,
   "metadata": {},
   "outputs": [
    {
     "name": "stderr",
     "output_type": "stream",
     "text": [
      "100%|██████████| 1000000/1000000 [02:00<00:00, 8314.02it/s]\n",
      "100%|██████████| 1000000/1000000 [01:59<00:00, 8357.67it/s]\n",
      "100%|██████████| 1000000/1000000 [02:03<00:00, 8116.07it/s]\n",
      "100%|██████████| 1000000/1000000 [02:02<00:00, 8154.67it/s]\n",
      "100%|██████████| 1000000/1000000 [02:01<00:00, 8199.66it/s]\n",
      "100%|██████████| 1000000/1000000 [02:02<00:00, 8145.15it/s]\n",
      "100%|██████████| 1000000/1000000 [02:04<00:00, 8006.85it/s]\n",
      "100%|██████████| 1000000/1000000 [01:55<00:00, 8666.04it/s]\n",
      "100%|██████████| 1000000/1000000 [01:56<00:00, 8616.80it/s]\n",
      "100%|██████████| 1000000/1000000 [02:00<00:00, 8287.20it/s]\n",
      "100%|██████████| 1000000/1000000 [03:30<00:00, 4753.49it/s]\n",
      "100%|██████████| 1000000/1000000 [03:22<00:00, 4932.99it/s]\n",
      "100%|██████████| 1000000/1000000 [02:50<00:00, 5861.12it/s]\n",
      "100%|██████████| 1000000/1000000 [02:54<00:00, 5718.50it/s]\n",
      "100%|██████████| 1000000/1000000 [02:55<00:00, 5708.13it/s]\n",
      "100%|██████████| 1000000/1000000 [02:52<00:00, 5784.73it/s]\n",
      "100%|██████████| 1000000/1000000 [02:50<00:00, 5854.49it/s]\n",
      "100%|██████████| 1000000/1000000 [02:54<00:00, 5722.26it/s]\n",
      "100%|██████████| 1000000/1000000 [02:51<00:00, 5836.50it/s]\n",
      "100%|██████████| 1000000/1000000 [02:48<00:00, 5940.49it/s]\n",
      "100%|██████████| 1000000/1000000 [02:48<00:00, 5942.52it/s]\n",
      "100%|██████████| 1000000/1000000 [02:49<00:00, 5907.31it/s]\n",
      "100%|██████████| 1000000/1000000 [02:46<00:00, 6004.54it/s]\n",
      "100%|██████████| 1000000/1000000 [02:47<00:00, 5964.46it/s]\n",
      "100%|██████████| 1000000/1000000 [02:51<00:00, 5825.47it/s]\n",
      "100%|██████████| 1000000/1000000 [02:51<00:00, 5837.78it/s]\n",
      "100%|██████████| 1000000/1000000 [02:47<00:00, 5968.71it/s]\n",
      "100%|██████████| 1000000/1000000 [02:51<00:00, 5816.31it/s]\n",
      "100%|██████████| 1000000/1000000 [02:50<00:00, 5857.22it/s]\n",
      "100%|██████████| 1000000/1000000 [02:50<00:00, 5876.89it/s]\n",
      "100%|██████████| 1000000/1000000 [02:56<00:00, 5651.30it/s]\n",
      "100%|██████████| 1000000/1000000 [02:49<00:00, 5892.01it/s]\n",
      "100%|██████████| 1000000/1000000 [02:50<00:00, 5870.24it/s]\n",
      "100%|██████████| 1000000/1000000 [02:51<00:00, 5816.11it/s]\n",
      "100%|██████████| 1000000/1000000 [02:49<00:00, 5909.95it/s]\n",
      "100%|██████████| 1000000/1000000 [02:47<00:00, 5966.22it/s]\n",
      "100%|██████████| 1000000/1000000 [02:47<00:00, 5972.23it/s]\n"
     ]
    }
   ],
   "source": [
    "for i in range(baseline, len(params)):\n",
    "\n",
    "    gen_data(exp_name=i,\n",
    "         conf_file='../exp_data/na49/config.cmnd', \n",
    "         tune_pp=1,\n",
    "         additional_instructions=dict(list(params.items())[:i]),\n",
    "         n_events=N_events)"
   ]
  },
  {
   "cell_type": "code",
   "execution_count": 17,
   "metadata": {},
   "outputs": [],
   "source": [
    "import pandas as pd\n",
    "import numpy as np\n",
    "import matplotlib.pyplot as plt"
   ]
  },
  {
   "cell_type": "code",
   "execution_count": 21,
   "metadata": {},
   "outputs": [],
   "source": [
    "sig_totals = {}\n",
    "\n",
    "for i in range(baseline, len(params)):\n",
    "\n",
    "    sigma_file = open(f'gen_data/{i}/sigma_total.txt', 'r')\n",
    "    sig_total = float(sigma_file.readline())\n",
    "    sigma_file.close()\n",
    "\n",
    "    sig_totals[i] = sig_total"
   ]
  },
  {
   "cell_type": "code",
   "execution_count": 22,
   "metadata": {},
   "outputs": [],
   "source": [
    "bins_file = open('../exp_data/na49/binning.bin', 'r')"
   ]
  },
  {
   "cell_type": "code",
   "execution_count": 23,
   "metadata": {},
   "outputs": [],
   "source": [
    "bins = []\n",
    "\n",
    "for num, line in enumerate(bins_file.readlines()):\n",
    "\n",
    "    if num % 2 == 0:\n",
    "        \n",
    "        a = line.split('|')\n",
    "\n",
    "        for bin in a:\n",
    "\n",
    "            bin = bin.replace('(', '').replace(')', '').replace(' ', '')\n",
    "            bins.append(list(map(float, bin.split(','))))\n",
    "\n",
    "bins = np.array(bins)\n",
    "\n",
    "bins_file.close()"
   ]
  },
  {
   "cell_type": "code",
   "execution_count": 24,
   "metadata": {},
   "outputs": [],
   "source": [
    "def xsect_calc(data, sig_total):\n",
    "\n",
    "    xsect = []\n",
    "    err = []\n",
    "\n",
    "    for bin in bins:\n",
    "\n",
    "        xF = bin[0]\n",
    "        pT = bin[1]\n",
    "\n",
    "        dxF = bin[2]\n",
    "        dpT = bin[3]\n",
    "\n",
    "        mask_for_bin = (data['xF'] > xF - dxF / 2) * (data['xF'] < xF + dxF / 2) * (data['pT'] > pT - dpT / 2) * (data['pT'] < pT + dpT / 2)\n",
    "\n",
    "        dn = data[mask_for_bin]['E'].size\n",
    "\n",
    "        dp3 = dxF * 2 * pT * dpT\n",
    "\n",
    "        E = data[mask_for_bin]['E']\n",
    "\n",
    "        xsect.append((E * (sig_total / N_events) * (dn / dp3) / norm).mean())\n",
    "        err.append((E * (sig_total / N_events) * (dn / dp3) / norm).std())\n",
    "\n",
    "    xsect = np.where(np.isnan(xsect), 0, xsect)\n",
    "    err = np.where(np.isnan(err), 0, err)\n",
    "\n",
    "    return xsect, err"
   ]
  },
  {
   "cell_type": "code",
   "execution_count": 25,
   "metadata": {},
   "outputs": [],
   "source": [
    "def calc_metric(func, xsect, err, ref):\n",
    "\n",
    "    res = []\n",
    "\n",
    "    for num, bin in enumerate(bins):\n",
    "\n",
    "        mask = (ref['xF'] == bin[0]) * (ref['pT'] == bin[1])\n",
    "\n",
    "        if sum(mask) != 0:\n",
    "\n",
    "            res.append(func(y_hat=xsect[num], y=ref['xsect'][mask].values[0],\n",
    "                            y_hat_err=err[num], y_err=ref['error'][mask].values[0]))\n",
    "\n",
    "    return np.where(np.isnan(res), 0, res)"
   ]
  },
  {
   "cell_type": "code",
   "execution_count": 26,
   "metadata": {},
   "outputs": [],
   "source": [
    "def chi_square(y_hat, y, y_hat_err=None, y_err=None):\n",
    "\n",
    "    return (y_hat - y) ** 2 / (y_hat_err ** 2 + y_err ** 2)"
   ]
  },
  {
   "cell_type": "code",
   "execution_count": 27,
   "metadata": {},
   "outputs": [],
   "source": [
    "metrics = {}\n",
    "\n",
    "for i in range(baseline, len(params)):\n",
    "\n",
    "    metrics[i] = []\n",
    "\n",
    "    sigma_file = open(f'gen_data/{i}/sigma_total.txt', 'r')\n",
    "    sig_total = float(sigma_file.readline())\n",
    "    sigma_file.close()\n",
    "\n",
    "    for id in [211]:\n",
    "\n",
    "        data = pd.read_csv(f'gen_data/{i}/{id}.csv')\n",
    "        ref = pd.read_csv(f'../exp_data/na49/{id}.csv')\n",
    "\n",
    "        xsect, err = xsect_calc(data, sig_total)\n",
    "\n",
    "        res = calc_metric(chi_square, xsect, err, ref)\n",
    "\n",
    "        metrics[i].append(np.mean(res))"
   ]
  },
  {
   "cell_type": "code",
   "execution_count": 29,
   "metadata": {},
   "outputs": [],
   "source": [
    "x = list(metrics.keys())\n",
    "y = np.array(list(metrics.values())).sum(axis=1)"
   ]
  },
  {
   "cell_type": "code",
   "execution_count": 60,
   "metadata": {},
   "outputs": [
    {
     "data": {
      "image/png": "[encoded data removed]",
      "text/plain": [
       "<Figure size 1000x1000 with 1 Axes>"
      ]
     },
     "metadata": {},
     "output_type": "display_data"
    }
   ],
   "source": [
    "plt.figure(figsize=(10, 10))\n",
    "plt.rcParams.update({'font.size': 16})\n",
    "plt.rcParams['image.cmap'] = 'plasma'\n",
    "\n",
    "plt.plot(x, y - y[0])\n",
    "plt.errorbar(x, y - y[0], fmt='*')\n",
    "\n",
    "plt.ylabel('$\\chi^2$', fontdict={'size': 24})\n",
    "plt.xlabel('Parametr ID', fontdict={'size': 24})\n",
    "\n",
    "plt.grid()\n",
    "\n",
    "plt.show()"
   ]
  },
  {
   "cell_type": "code",
   "execution_count": 58,
   "metadata": {},
   "outputs": [
    {
     "name": "stdout",
     "output_type": "stream",
     "text": [
      "Important parametrs:\n",
      "\n",
      "MultipartonInteractions:ecmRef\n",
      "MultipartonInteractions:expPow\n",
      "StringZ:aLund\n",
      "StringZ:aExtraDiquark\n",
      "StringPT:sigma\n",
      "StringFlav:probQQtoQ\n"
     ]
    }
   ],
   "source": [
    "print('Important parametrs:\\n\\n',\n",
    "      '\\n'.join(np.array(list(params.keys()))[(np.argsort(-np.diff(y)) + baseline)[:6]]), sep='')"
   ]
  }
 ],
 "metadata": {
  "kernelspec": {
   "display_name": "Python 3",
   "language": "python",
   "name": "python3"
  },
  "language_info": {
   "codemirror_mode": {
    "name": "ipython",
    "version": 3
   },
   "file_extension": ".py",
   "mimetype": "text/x-python",
   "name": "python",
   "nbconvert_exporter": "python",
   "pygments_lexer": "ipython3",
   "version": "3.10.12"
  },
  "orig_nbformat": 4
 },
 "nbformat": 4,
 "nbformat_minor": 2
}
