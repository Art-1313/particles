{
 "cells": [
  {
   "cell_type": "code",
   "execution_count": 76,
   "metadata": {},
   "outputs": [],
   "source": [
    "mp = 0.93827                                                           #proton mass\n",
    "pz = 158.0                                                             #beam momentum\n",
    "root_s = (2 * mp * (mp + (mp ** 2 + pz ** 2) ** 0.5)) ** 0.5           #sqrt(s)\n",
    "norm = 3.141593 * root_s / 2                                           #normalization in new coordinats\n",
    "sig_trig = 28.23                                                       #trigger cross section"
   ]
  },
  {
   "cell_type": "code",
   "execution_count": 77,
   "metadata": {},
   "outputs": [],
   "source": [
    "import sys\n",
    "\n",
    "sys.path.insert(0, '/opt/homebrew/Cellar/pythia/8.309/lib')\n",
    "\n",
    "import pythia8"
   ]
  },
  {
   "cell_type": "code",
   "execution_count": 78,
   "metadata": {},
   "outputs": [],
   "source": [
    "N_events = int(1e7) \n",
    "ids = [-211, 211, -321, 321]"
   ]
  },
  {
   "cell_type": "code",
   "execution_count": 79,
   "metadata": {},
   "outputs": [],
   "source": [
    "import os\n",
    "from tqdm import tqdm"
   ]
  },
  {
   "cell_type": "code",
   "execution_count": 80,
   "metadata": {},
   "outputs": [],
   "source": [
    "def gen_data(exp_name, conf_file, tune_pp=14, n_events=int(1e6), additional_instructions={}):\n",
    "\n",
    "    try:\n",
    "    \n",
    "        os.mkdir(f'gen_data/{exp_name}')\n",
    "    \n",
    "    except FileExistsError: pass\n",
    "\n",
    "    pythia = pythia8.Pythia(\"\", False)\n",
    "\n",
    "    files = dict(zip(ids, [open(f'gen_data/{exp_name}/{id}.csv', 'w') for id in ids]))\n",
    "\n",
    "    for id in ids: files[id].write('pT,xF,E\\n')\n",
    "\n",
    "    pythia.readFile(conf_file)\n",
    "    pythia.readString(f'Tune:pp = {tune_pp}')\n",
    "        \n",
    "    for inst, val in  additional_instructions.items():\n",
    "            \n",
    "        pythia.readString(f'{inst} = {val}')\n",
    "\n",
    "    boost = pythia8.Vec4()\n",
    "    boost.pz(mp * ((1 + (pz / mp) ** 2) ** 0.5 - 1) ** 0.5)\n",
    "    boost.e((boost.pz() ** 2 + mp ** 2) ** 0.5)\n",
    "\n",
    "    pythia.init()\n",
    "\n",
    "    for _ in tqdm(range(n_events)):\n",
    "\n",
    "        if not pythia.next(): continue\n",
    "        \n",
    "        entries = pythia.event.size()\n",
    "\n",
    "        for j in range(entries):\n",
    "\n",
    "            particle = pythia.event[j]\n",
    "\n",
    "            id = particle.id()\n",
    "            \n",
    "            if abs(int(id)) == 211 or abs(int(id)) == 321:\n",
    "\n",
    "                P_mu = particle.p()\n",
    "\n",
    "                P_mu.bstback(boost)\n",
    "\n",
    "                pT = P_mu.pT()\n",
    "                xF = 2 * P_mu.pz() / root_s\n",
    "                E = P_mu.e()\n",
    "\n",
    "                files[id].write(f'{pT},{xF},{E}\\n')\n",
    "\n",
    "    sig_total = pythia.getSigmaTotal()\n",
    "\n",
    "    sigma_file = open(f'gen_data/{exp_name}/sigma_total.txt', 'w')\n",
    "    sigma_file.write(f'{sig_total}')\n",
    "    sigma_file.close()\n",
    "\n",
    "    for id in ids: files[id].close()"
   ]
  },
  {
   "cell_type": "code",
   "execution_count": 96,
   "metadata": {},
   "outputs": [],
   "source": [
    "params_file = open('params.txt', 'r')"
   ]
  },
  {
   "cell_type": "code",
   "execution_count": 97,
   "metadata": {},
   "outputs": [],
   "source": [
    "params = {\n",
    "    'SigmaDiffractive:dampen': 'on',\n",
    "    'SpaceShower:phiIntAsym': 'on',\n",
    "    'SpaceShower:phiPolAsym': 'on',\n",
    "    'SpaceShower:rapidityOrder': 'on',\n",
    "    'SpaceShower:rapidityOrderMPI': 'on',\n",
    "    'SpaceShower:samePTasMPI': 'off',\n",
    "    'TimeShower:dampenBeamRecoil': 'on',\n",
    "    'TimeShower:phiPolAsym': 'on'\n",
    "}\n",
    "\n",
    "baseline = len(params)\n",
    "\n",
    "for line in params_file.readlines():\n",
    "\n",
    "    param = line.split('|')\n",
    "\n",
    "    params[param[1].replace(\" \", \"\")] = float(param[3])"
   ]
  },
  {
   "cell_type": "code",
   "execution_count": 83,
   "metadata": {},
   "outputs": [
    {
     "name": "stderr",
     "output_type": "stream",
     "text": [
      "100%|██████████| 10000000/10000000 [19:45<00:00, 8437.61it/s] \n",
      "100%|██████████| 10000000/10000000 [19:36<00:00, 8496.92it/s] \n",
      "100%|██████████| 10000000/10000000 [19:38<00:00, 8482.62it/s] \n",
      "100%|██████████| 10000000/10000000 [19:40<00:00, 8467.50it/s] \n",
      "100%|██████████| 10000000/10000000 [19:42<00:00, 8456.03it/s] \n",
      "100%|██████████| 10000000/10000000 [19:47<00:00, 8418.97it/s] \n",
      "100%|██████████| 10000000/10000000 [19:57<00:00, 8349.30it/s] \n",
      "100%|██████████| 10000000/10000000 [18:33<00:00, 8979.33it/s] \n",
      "100%|██████████| 10000000/10000000 [18:27<00:00, 9028.25it/s] \n",
      "100%|██████████| 10000000/10000000 [19:35<00:00, 8503.94it/s] \n",
      "100%|██████████| 10000000/10000000 [33:52<00:00, 4920.75it/s] \n",
      "100%|██████████| 10000000/10000000 [32:45<00:00, 5088.52it/s] \n",
      "100%|██████████| 10000000/10000000 [27:55<00:00, 5968.51it/s] \n",
      "100%|██████████| 10000000/10000000 [28:02<00:00, 5943.49it/s] \n",
      "100%|██████████| 10000000/10000000 [28:01<00:00, 5946.19it/s] \n",
      "100%|██████████| 10000000/10000000 [27:38<00:00, 6030.99it/s] \n",
      "100%|██████████| 10000000/10000000 [27:29<00:00, 6061.21it/s] \n",
      "100%|██████████| 10000000/10000000 [27:31<00:00, 6056.42it/s] \n",
      "100%|██████████| 10000000/10000000 [27:36<00:00, 6037.22it/s] \n",
      "100%|██████████| 10000000/10000000 [27:43<00:00, 6012.54it/s] \n",
      "100%|██████████| 10000000/10000000 [27:36<00:00, 6035.60it/s] \n",
      "100%|██████████| 10000000/10000000 [27:48<00:00, 5994.96it/s] \n",
      "100%|██████████| 10000000/10000000 [27:28<00:00, 6064.30it/s] \n",
      "100%|██████████| 10000000/10000000 [27:38<00:00, 6027.89it/s] \n",
      "100%|██████████| 10000000/10000000 [27:36<00:00, 6037.17it/s] \n",
      "100%|██████████| 10000000/10000000 [27:37<00:00, 6032.82it/s] \n",
      "100%|██████████| 10000000/10000000 [27:27<00:00, 6069.27it/s] \n",
      "100%|██████████| 10000000/10000000 [27:43<00:00, 6009.88it/s] \n",
      "100%|██████████| 10000000/10000000 [27:45<00:00, 6004.61it/s] \n",
      "100%|██████████| 10000000/10000000 [27:51<00:00, 5982.88it/s] \n",
      "100%|██████████| 10000000/10000000 [28:28<00:00, 5851.65it/s] \n",
      "100%|██████████| 10000000/10000000 [28:18<00:00, 5886.99it/s] \n",
      "100%|██████████| 10000000/10000000 [28:20<00:00, 5882.32it/s] \n",
      "100%|██████████| 10000000/10000000 [28:42<00:00, 5805.50it/s] \n",
      "100%|██████████| 10000000/10000000 [30:28<00:00, 5468.85it/s] \n",
      "100%|██████████| 10000000/10000000 [30:27<00:00, 5470.57it/s] \n",
      "100%|██████████| 10000000/10000000 [33:07<00:00, 5030.85it/s] \n"
     ]
    }
   ],
   "source": [
    "for i in range(baseline, len(params)):\n",
    "\n",
    "    gen_data(exp_name=i,\n",
    "         conf_file='../exp_data/na49/config.cmnd', \n",
    "         tune_pp=1,\n",
    "         additional_instructions=dict(list(params.items())[:i]),\n",
    "         n_events=N_events)"
   ]
  },
  {
   "cell_type": "code",
   "execution_count": 100,
   "metadata": {},
   "outputs": [],
   "source": [
    "import pandas as pd\n",
    "import numpy as np\n",
    "import matplotlib.pyplot as plt"
   ]
  },
  {
   "cell_type": "code",
   "execution_count": 85,
   "metadata": {},
   "outputs": [],
   "source": [
    "sig_totals = {}\n",
    "\n",
    "for i in range(len(params)):\n",
    "\n",
    "    sigma_file = open(f'gen_data/{i}/sigma_total.txt', 'r')\n",
    "    sig_total = float(sigma_file.readline())\n",
    "    sigma_file.close()\n",
    "\n",
    "    sig_totals[i] = sig_total"
   ]
  },
  {
   "cell_type": "code",
   "execution_count": 86,
   "metadata": {},
   "outputs": [],
   "source": [
    "bins_file = open('../exp_data/na49/binning.bin', 'r')"
   ]
  },
  {
   "cell_type": "code",
   "execution_count": 87,
   "metadata": {},
   "outputs": [],
   "source": [
    "bins = []\n",
    "\n",
    "for num, line in enumerate(bins_file.readlines()):\n",
    "\n",
    "    if num % 2 == 0:\n",
    "        \n",
    "        a = line.split('|')\n",
    "\n",
    "        for bin in a:\n",
    "\n",
    "            bin = bin.replace('(', '').replace(')', '').replace(' ', '')\n",
    "            bins.append(list(map(float, bin.split(','))))\n",
    "\n",
    "bins = np.array(bins)\n",
    "\n",
    "bins_file.close()"
   ]
  },
  {
   "cell_type": "code",
   "execution_count": 88,
   "metadata": {},
   "outputs": [],
   "source": [
    "def xsect_calc(data, sig_total):\n",
    "\n",
    "    xsect = []\n",
    "    err = []\n",
    "\n",
    "    for bin in bins:\n",
    "\n",
    "        xF = bin[0]\n",
    "        pT = bin[1]\n",
    "\n",
    "        dxF = bin[2]\n",
    "        dpT = bin[3]\n",
    "\n",
    "        mask_for_bin = (data['xF'] > xF - dxF / 2) * (data['xF'] < xF + dxF / 2) * (data['pT'] > pT - dpT / 2) * (data['pT'] < pT + dpT / 2)\n",
    "\n",
    "        dn = data[mask_for_bin]['E'].size\n",
    "\n",
    "        dp3 = dxF * 2 * pT * dpT\n",
    "\n",
    "        E = data[mask_for_bin]['E']\n",
    "\n",
    "        xsect.append((E * (sig_total / N_events) * (dn / dp3) / norm).mean())\n",
    "        err.append((E * (sig_total / N_events) * (dn / dp3) / norm).std())\n",
    "\n",
    "    xsect = np.where(np.isnan(xsect), 0, xsect)\n",
    "    err = np.where(np.isnan(err), 0, err)\n",
    "\n",
    "    return xsect, err"
   ]
  },
  {
   "cell_type": "code",
   "execution_count": 89,
   "metadata": {},
   "outputs": [],
   "source": [
    "def calc_metric(func, xsect, err, ref):\n",
    "\n",
    "    res = []\n",
    "\n",
    "    for num, bin in enumerate(bins):\n",
    "\n",
    "        mask = (ref['xF'] == bin[0]) * (ref['pT'] == bin[1])\n",
    "\n",
    "        if sum(mask) != 0:\n",
    "\n",
    "            res.append(func(y_hat=xsect[num], y=ref['xsect'][mask].values[0],\n",
    "                            y_hat_err=err[num], y_err=ref['error'][mask].values[0]))\n",
    "\n",
    "    return np.where(np.isnan(res), 0, res)"
   ]
  },
  {
   "cell_type": "code",
   "execution_count": 90,
   "metadata": {},
   "outputs": [],
   "source": [
    "def chi_square(y_hat, y, y_hat_err=None, y_err=None):\n",
    "\n",
    "    return (y_hat - y) ** 2 / (y_hat_err ** 2 + y_err ** 2)"
   ]
  },
  {
   "cell_type": "code",
   "execution_count": 102,
   "metadata": {},
   "outputs": [
    {
     "name": "stderr",
     "output_type": "stream",
     "text": [
      "/var/folders/9j/cllsf0815jl9bm0yjv_8cm400000gn/T/ipykernel_19508/3748578070.py:3: RuntimeWarning: invalid value encountered in double_scalars\n",
      "  return (y_hat - y) ** 2 / (y_hat_err ** 2 + y_err ** 2)\n",
      "/var/folders/9j/cllsf0815jl9bm0yjv_8cm400000gn/T/ipykernel_19508/3748578070.py:3: RuntimeWarning: invalid value encountered in double_scalars\n",
      "  return (y_hat - y) ** 2 / (y_hat_err ** 2 + y_err ** 2)\n",
      "/var/folders/9j/cllsf0815jl9bm0yjv_8cm400000gn/T/ipykernel_19508/3748578070.py:3: RuntimeWarning: invalid value encountered in double_scalars\n",
      "  return (y_hat - y) ** 2 / (y_hat_err ** 2 + y_err ** 2)\n",
      "/var/folders/9j/cllsf0815jl9bm0yjv_8cm400000gn/T/ipykernel_19508/3748578070.py:3: RuntimeWarning: invalid value encountered in double_scalars\n",
      "  return (y_hat - y) ** 2 / (y_hat_err ** 2 + y_err ** 2)\n",
      "/var/folders/9j/cllsf0815jl9bm0yjv_8cm400000gn/T/ipykernel_19508/3748578070.py:3: RuntimeWarning: invalid value encountered in double_scalars\n",
      "  return (y_hat - y) ** 2 / (y_hat_err ** 2 + y_err ** 2)\n",
      "/var/folders/9j/cllsf0815jl9bm0yjv_8cm400000gn/T/ipykernel_19508/3748578070.py:3: RuntimeWarning: invalid value encountered in double_scalars\n",
      "  return (y_hat - y) ** 2 / (y_hat_err ** 2 + y_err ** 2)\n",
      "/var/folders/9j/cllsf0815jl9bm0yjv_8cm400000gn/T/ipykernel_19508/3748578070.py:3: RuntimeWarning: invalid value encountered in double_scalars\n",
      "  return (y_hat - y) ** 2 / (y_hat_err ** 2 + y_err ** 2)\n",
      "/var/folders/9j/cllsf0815jl9bm0yjv_8cm400000gn/T/ipykernel_19508/3748578070.py:3: RuntimeWarning: invalid value encountered in double_scalars\n",
      "  return (y_hat - y) ** 2 / (y_hat_err ** 2 + y_err ** 2)\n",
      "/var/folders/9j/cllsf0815jl9bm0yjv_8cm400000gn/T/ipykernel_19508/3748578070.py:3: RuntimeWarning: invalid value encountered in double_scalars\n",
      "  return (y_hat - y) ** 2 / (y_hat_err ** 2 + y_err ** 2)\n",
      "/var/folders/9j/cllsf0815jl9bm0yjv_8cm400000gn/T/ipykernel_19508/3748578070.py:3: RuntimeWarning: invalid value encountered in double_scalars\n",
      "  return (y_hat - y) ** 2 / (y_hat_err ** 2 + y_err ** 2)\n",
      "/var/folders/9j/cllsf0815jl9bm0yjv_8cm400000gn/T/ipykernel_19508/3748578070.py:3: RuntimeWarning: invalid value encountered in double_scalars\n",
      "  return (y_hat - y) ** 2 / (y_hat_err ** 2 + y_err ** 2)\n",
      "/var/folders/9j/cllsf0815jl9bm0yjv_8cm400000gn/T/ipykernel_19508/3748578070.py:3: RuntimeWarning: invalid value encountered in double_scalars\n",
      "  return (y_hat - y) ** 2 / (y_hat_err ** 2 + y_err ** 2)\n",
      "/var/folders/9j/cllsf0815jl9bm0yjv_8cm400000gn/T/ipykernel_19508/3748578070.py:3: RuntimeWarning: invalid value encountered in double_scalars\n",
      "  return (y_hat - y) ** 2 / (y_hat_err ** 2 + y_err ** 2)\n",
      "/var/folders/9j/cllsf0815jl9bm0yjv_8cm400000gn/T/ipykernel_19508/3748578070.py:3: RuntimeWarning: invalid value encountered in double_scalars\n",
      "  return (y_hat - y) ** 2 / (y_hat_err ** 2 + y_err ** 2)\n",
      "/var/folders/9j/cllsf0815jl9bm0yjv_8cm400000gn/T/ipykernel_19508/3748578070.py:3: RuntimeWarning: invalid value encountered in double_scalars\n",
      "  return (y_hat - y) ** 2 / (y_hat_err ** 2 + y_err ** 2)\n",
      "/var/folders/9j/cllsf0815jl9bm0yjv_8cm400000gn/T/ipykernel_19508/3748578070.py:3: RuntimeWarning: invalid value encountered in double_scalars\n",
      "  return (y_hat - y) ** 2 / (y_hat_err ** 2 + y_err ** 2)\n",
      "/var/folders/9j/cllsf0815jl9bm0yjv_8cm400000gn/T/ipykernel_19508/3748578070.py:3: RuntimeWarning: invalid value encountered in double_scalars\n",
      "  return (y_hat - y) ** 2 / (y_hat_err ** 2 + y_err ** 2)\n",
      "/var/folders/9j/cllsf0815jl9bm0yjv_8cm400000gn/T/ipykernel_19508/3748578070.py:3: RuntimeWarning: invalid value encountered in double_scalars\n",
      "  return (y_hat - y) ** 2 / (y_hat_err ** 2 + y_err ** 2)\n",
      "/var/folders/9j/cllsf0815jl9bm0yjv_8cm400000gn/T/ipykernel_19508/3748578070.py:3: RuntimeWarning: invalid value encountered in double_scalars\n",
      "  return (y_hat - y) ** 2 / (y_hat_err ** 2 + y_err ** 2)\n",
      "/var/folders/9j/cllsf0815jl9bm0yjv_8cm400000gn/T/ipykernel_19508/3748578070.py:3: RuntimeWarning: invalid value encountered in double_scalars\n",
      "  return (y_hat - y) ** 2 / (y_hat_err ** 2 + y_err ** 2)\n",
      "/var/folders/9j/cllsf0815jl9bm0yjv_8cm400000gn/T/ipykernel_19508/3748578070.py:3: RuntimeWarning: invalid value encountered in double_scalars\n",
      "  return (y_hat - y) ** 2 / (y_hat_err ** 2 + y_err ** 2)\n",
      "/var/folders/9j/cllsf0815jl9bm0yjv_8cm400000gn/T/ipykernel_19508/3748578070.py:3: RuntimeWarning: invalid value encountered in double_scalars\n",
      "  return (y_hat - y) ** 2 / (y_hat_err ** 2 + y_err ** 2)\n",
      "/var/folders/9j/cllsf0815jl9bm0yjv_8cm400000gn/T/ipykernel_19508/3748578070.py:3: RuntimeWarning: invalid value encountered in double_scalars\n",
      "  return (y_hat - y) ** 2 / (y_hat_err ** 2 + y_err ** 2)\n",
      "/var/folders/9j/cllsf0815jl9bm0yjv_8cm400000gn/T/ipykernel_19508/3748578070.py:3: RuntimeWarning: invalid value encountered in double_scalars\n",
      "  return (y_hat - y) ** 2 / (y_hat_err ** 2 + y_err ** 2)\n",
      "/var/folders/9j/cllsf0815jl9bm0yjv_8cm400000gn/T/ipykernel_19508/3748578070.py:3: RuntimeWarning: invalid value encountered in double_scalars\n",
      "  return (y_hat - y) ** 2 / (y_hat_err ** 2 + y_err ** 2)\n",
      "/var/folders/9j/cllsf0815jl9bm0yjv_8cm400000gn/T/ipykernel_19508/3748578070.py:3: RuntimeWarning: invalid value encountered in double_scalars\n",
      "  return (y_hat - y) ** 2 / (y_hat_err ** 2 + y_err ** 2)\n",
      "/var/folders/9j/cllsf0815jl9bm0yjv_8cm400000gn/T/ipykernel_19508/3748578070.py:3: RuntimeWarning: invalid value encountered in double_scalars\n",
      "  return (y_hat - y) ** 2 / (y_hat_err ** 2 + y_err ** 2)\n",
      "/var/folders/9j/cllsf0815jl9bm0yjv_8cm400000gn/T/ipykernel_19508/3748578070.py:3: RuntimeWarning: invalid value encountered in double_scalars\n",
      "  return (y_hat - y) ** 2 / (y_hat_err ** 2 + y_err ** 2)\n",
      "/var/folders/9j/cllsf0815jl9bm0yjv_8cm400000gn/T/ipykernel_19508/3748578070.py:3: RuntimeWarning: invalid value encountered in double_scalars\n",
      "  return (y_hat - y) ** 2 / (y_hat_err ** 2 + y_err ** 2)\n",
      "/var/folders/9j/cllsf0815jl9bm0yjv_8cm400000gn/T/ipykernel_19508/3748578070.py:3: RuntimeWarning: invalid value encountered in double_scalars\n",
      "  return (y_hat - y) ** 2 / (y_hat_err ** 2 + y_err ** 2)\n",
      "/var/folders/9j/cllsf0815jl9bm0yjv_8cm400000gn/T/ipykernel_19508/3748578070.py:3: RuntimeWarning: invalid value encountered in double_scalars\n",
      "  return (y_hat - y) ** 2 / (y_hat_err ** 2 + y_err ** 2)\n",
      "/var/folders/9j/cllsf0815jl9bm0yjv_8cm400000gn/T/ipykernel_19508/3748578070.py:3: RuntimeWarning: invalid value encountered in double_scalars\n",
      "  return (y_hat - y) ** 2 / (y_hat_err ** 2 + y_err ** 2)\n",
      "/var/folders/9j/cllsf0815jl9bm0yjv_8cm400000gn/T/ipykernel_19508/3748578070.py:3: RuntimeWarning: invalid value encountered in double_scalars\n",
      "  return (y_hat - y) ** 2 / (y_hat_err ** 2 + y_err ** 2)\n",
      "/var/folders/9j/cllsf0815jl9bm0yjv_8cm400000gn/T/ipykernel_19508/3748578070.py:3: RuntimeWarning: invalid value encountered in double_scalars\n",
      "  return (y_hat - y) ** 2 / (y_hat_err ** 2 + y_err ** 2)\n",
      "/var/folders/9j/cllsf0815jl9bm0yjv_8cm400000gn/T/ipykernel_19508/3748578070.py:3: RuntimeWarning: invalid value encountered in double_scalars\n",
      "  return (y_hat - y) ** 2 / (y_hat_err ** 2 + y_err ** 2)\n",
      "/var/folders/9j/cllsf0815jl9bm0yjv_8cm400000gn/T/ipykernel_19508/3748578070.py:3: RuntimeWarning: invalid value encountered in double_scalars\n",
      "  return (y_hat - y) ** 2 / (y_hat_err ** 2 + y_err ** 2)\n",
      "/var/folders/9j/cllsf0815jl9bm0yjv_8cm400000gn/T/ipykernel_19508/3748578070.py:3: RuntimeWarning: invalid value encountered in double_scalars\n",
      "  return (y_hat - y) ** 2 / (y_hat_err ** 2 + y_err ** 2)\n"
     ]
    }
   ],
   "source": [
    "metrics = {}\n",
    "\n",
    "for i in range(baseline, len(params)):\n",
    "\n",
    "    metrics[i] = []\n",
    "\n",
    "    sigma_file = open(f'gen_data/{i}/sigma_total.txt', 'r')\n",
    "    sig_total = float(sigma_file.readline())\n",
    "    sigma_file.close()\n",
    "\n",
    "    for id in ids:\n",
    "\n",
    "        data = pd.read_csv(f'gen_data/{i}/{id}.csv')\n",
    "        ref = pd.read_csv(f'../exp_data/na49/{id}.csv')\n",
    "\n",
    "        xsect, err = xsect_calc(data, sig_total)\n",
    "\n",
    "        res = calc_metric(chi_square, xsect, err, ref)\n",
    "\n",
    "        metrics[i].append(np.mean(res))"
   ]
  },
  {
   "cell_type": "code",
   "execution_count": 109,
   "metadata": {},
   "outputs": [],
   "source": [
    "x = list(metrics.keys())\n",
    "y = np.array(list(metrics.values())).sum(axis=1)"
   ]
  },
  {
   "cell_type": "code",
   "execution_count": 120,
   "metadata": {},
   "outputs": [
    {
     "data": {
      "image/png": "[encoded data removed]",
      "text/plain": [
       "<Figure size 1000x1000 with 1 Axes>"
      ]
     },
     "metadata": {},
     "output_type": "display_data"
    }
   ],
   "source": [
    "plt.figure(figsize=(10, 10))\n",
    "\n",
    "plt.plot(x, y - y[0])\n",
    "plt.errorbar(x, y - y[0], fmt='*')\n",
    "\n",
    "plt.grid()\n",
    "\n",
    "plt.show()"
   ]
  },
  {
   "cell_type": "code",
   "execution_count": 138,
   "metadata": {},
   "outputs": [
    {
     "name": "stdout",
     "output_type": "stream",
     "text": [
      "Important parametrs:\n",
      "\n",
      "MultipartonInteractions:expPow\n",
      "StringPT:sigma\n",
      "StringZ:aExtraDiquark\n",
      "StringZ:aLund\n",
      "StringZ:bLund\n"
     ]
    }
   ],
   "source": [
    "print('Important parametrs:\\n\\n',\n",
    "      '\\n'.join(np.array(list(params.keys()))[[18, 35, 36, 37, 38]]), sep='')"
   ]
  }
 ],
 "metadata": {
  "kernelspec": {
   "display_name": "Python 3",
   "language": "python",
   "name": "python3"
  },
  "language_info": {
   "codemirror_mode": {
    "name": "ipython",
    "version": 3
   },
   "file_extension": ".py",
   "mimetype": "text/x-python",
   "name": "python",
   "nbconvert_exporter": "python",
   "pygments_lexer": "ipython3",
   "version": "3.10.12"
  },
  "orig_nbformat": 4
 },
 "nbformat": 4,
 "nbformat_minor": 2
}
